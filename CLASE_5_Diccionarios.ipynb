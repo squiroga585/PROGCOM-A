{
  "nbformat": 4,
  "nbformat_minor": 0,
  "metadata": {
    "colab": {
      "provenance": [],
      "authorship_tag": "ABX9TyPAz5Tw5td0MnfEo323Qboa",
      "include_colab_link": true
    },
    "kernelspec": {
      "name": "python3",
      "display_name": "Python 3"
    },
    "language_info": {
      "name": "python"
    }
  },
  "cells": [
    {
      "cell_type": "markdown",
      "metadata": {
        "id": "view-in-github",
        "colab_type": "text"
      },
      "source": [
        "<a href=\"https://colab.research.google.com/github/squiroga585/PROGCOM-A/blob/main/CLASE_5_Diccionarios.ipynb\" target=\"_parent\"><img src=\"https://colab.research.google.com/assets/colab-badge.svg\" alt=\"Open In Colab\"/></a>"
      ]
    },
    {
      "cell_type": "markdown",
      "source": [
        "#DICCIONARIOS\n",
        "Un tipo de dato que tiene como sintaxis:\n",
        "\n",
        "\n",
        "```\n",
        "Nombre_dict={}\n",
        "dict2={\"clave\":valor}\n",
        "```\n",
        "* La \"clave o llave\": siempre es alfanumérica\n",
        "* Valor: puede ser cualquier tipo de dato\n",
        "\n",
        "Posee las siguientes características\n",
        "1. No tiene indexación"
      ],
      "metadata": {
        "id": "MR67fmi_fX4U"
      }
    },
    {
      "cell_type": "code",
      "execution_count": null,
      "metadata": {
        "id": "ShXnuhNjbiZW"
      },
      "outputs": [],
      "source": [
        "Lista=lista(range(1,11))\n",
        "Lista[0]"
      ]
    },
    {
      "cell_type": "code",
      "source": [
        "liga_justicia={\"superhéroes\":[\"Supermán\",\"Batman\",\"Wonder Woman\"],\n",
        "               \"Villanos\":[\"Lex Luthor\",\"Joker\",\"Cheetah\"],\n",
        "               \"Identidad secreta\":[\"Clark Kent\", \"Bruce Wayne\", \"Diana Prince\"]}"
      ],
      "metadata": {
        "id": "4ocKCoxahtaL"
      },
      "execution_count": 33,
      "outputs": []
    },
    {
      "cell_type": "code",
      "source": [
        "type(liga_justicia)"
      ],
      "metadata": {
        "id": "S0sBACsJiYZC"
      },
      "execution_count": null,
      "outputs": []
    },
    {
      "cell_type": "code",
      "source": [
        "liga_justicia"
      ],
      "metadata": {
        "id": "-dbmalA1iqPJ"
      },
      "execution_count": null,
      "outputs": []
    },
    {
      "cell_type": "code",
      "source": [
        "liga_justicia[\"superhéroes\"]"
      ],
      "metadata": {
        "id": "vNH3iAkdjVHw"
      },
      "execution_count": null,
      "outputs": []
    },
    {
      "cell_type": "code",
      "source": [
        "liga_justicia[\"Villanos\"]"
      ],
      "metadata": {
        "colab": {
          "base_uri": "https://localhost:8080/"
        },
        "id": "WdaH4gIfjklo",
        "outputId": "da157126-ef72-452e-9037-eeb8de923202"
      },
      "execution_count": 6,
      "outputs": [
        {
          "output_type": "execute_result",
          "data": {
            "text/plain": [
              "['Lex Luthor', 'Joker', 'Cheetah']"
            ]
          },
          "metadata": {},
          "execution_count": 6
        }
      ]
    },
    {
      "cell_type": "code",
      "source": [
        "liga_justicia[\"Identidad secreta\"][2]"
      ],
      "metadata": {
        "colab": {
          "base_uri": "https://localhost:8080/",
          "height": 35
        },
        "id": "qNypRgpyjzjR",
        "outputId": "e2fc1e63-3442-46d3-c461-717eb14e9ecf"
      },
      "execution_count": 8,
      "outputs": [
        {
          "output_type": "execute_result",
          "data": {
            "text/plain": [
              "'Diana Prince'"
            ],
            "application/vnd.google.colaboratory.intrinsic+json": {
              "type": "string"
            }
          },
          "metadata": {},
          "execution_count": 8
        }
      ]
    },
    {
      "cell_type": "markdown",
      "source": [
        "2. Puede almacenar cualquier tipo de valor\n",
        "3. Es mutable."
      ],
      "metadata": {
        "id": "iwikV-Omk01P"
      }
    },
    {
      "cell_type": "code",
      "source": [
        "print(\"la identidad secreta de\", liga_justicia[\"superhéroes\"][1] + \" es \" + liga_justicia[\"Identidad secreta\"][1])"
      ],
      "metadata": {
        "colab": {
          "base_uri": "https://localhost:8080/"
        },
        "id": "Ej97sQTtlAkm",
        "outputId": "ac9a9368-ef2e-4722-a632-4a5b4fb4e800"
      },
      "execution_count": 25,
      "outputs": [
        {
          "output_type": "stream",
          "name": "stdout",
          "text": [
            "la identidad secreta de Batman es Bruce Wayne\n"
          ]
        }
      ]
    },
    {
      "cell_type": "markdown",
      "source": [
        ".Keys(): Método de los diccionarios que me permite adquirir todas las llaves o claves del diccionario."
      ],
      "metadata": {
        "id": "kJBHMAMRmpXt"
      }
    },
    {
      "cell_type": "code",
      "source": [
        "liga_justicia.keys()"
      ],
      "metadata": {
        "colab": {
          "base_uri": "https://localhost:8080/"
        },
        "id": "D0W5bXY9maj1",
        "outputId": "605aebaa-4793-42d6-df24-b2dd17b1c7e3"
      },
      "execution_count": 32,
      "outputs": [
        {
          "output_type": "execute_result",
          "data": {
            "text/plain": [
              "dict_keys([])"
            ]
          },
          "metadata": {},
          "execution_count": 32
        }
      ]
    },
    {
      "cell_type": "markdown",
      "source": [
        ".clear(): Elimina todos los elementos del diccionarios"
      ],
      "metadata": {
        "id": "JaPFuoX8mzKc"
      }
    },
    {
      "cell_type": "code",
      "source": [
        "liga_justicia.clear()"
      ],
      "metadata": {
        "id": "gSrUPk1Cmzok"
      },
      "execution_count": 28,
      "outputs": []
    },
    {
      "cell_type": "markdown",
      "source": [
        ".copy(): Crea una copia del diccionario\n",
        "\n"
      ],
      "metadata": {
        "id": "Ikq70HRZnTP8"
      }
    },
    {
      "cell_type": "code",
      "source": [
        "liga_justicia.copy()"
      ],
      "metadata": {
        "colab": {
          "base_uri": "https://localhost:8080/"
        },
        "id": "nB6eHetqnTd8",
        "outputId": "cec4208f-65f0-4935-8d25-d02a42495341"
      },
      "execution_count": 34,
      "outputs": [
        {
          "output_type": "execute_result",
          "data": {
            "text/plain": [
              "{'superhéroes': ['Supermán', 'Batman', 'Wonder Woman'],\n",
              " 'Villanos': ['Lex Luthor', 'Joker', 'Cheetah'],\n",
              " 'Identidad secreta': ['Clark Kent', 'Bruce Wayne', 'Diana Prince']}"
            ]
          },
          "metadata": {},
          "execution_count": 34
        }
      ]
    },
    {
      "cell_type": "markdown",
      "source": [
        ".get(): Devuelve todos los valores de una llave especifica"
      ],
      "metadata": {
        "id": "In4Rb7wKn5Bz"
      }
    },
    {
      "cell_type": "code",
      "source": [
        "liga_justicia.get(\"superhéroes\")"
      ],
      "metadata": {
        "colab": {
          "base_uri": "https://localhost:8080/"
        },
        "id": "9KZX1KISn65L",
        "outputId": "e49443a8-13b2-4b41-8354-e24dfdb738e9"
      },
      "execution_count": 45,
      "outputs": [
        {
          "output_type": "execute_result",
          "data": {
            "text/plain": [
              "['Supermán', 'Batman', 'Wonder Woman']"
            ]
          },
          "metadata": {},
          "execution_count": 45
        }
      ]
    },
    {
      "cell_type": "markdown",
      "source": [
        ".fromkeys(): Crea un nuevo diccionario"
      ],
      "metadata": {
        "id": "9jVQC13LoQYL"
      }
    },
    {
      "cell_type": "code",
      "source": [
        "nuevo_dic = dict.fromkeys([\"Pícaros\", \"Liga de la Injusticia\", \"Sociedad secreta de supervillanos\"], 0)\n",
        "print(nuevo_dic)"
      ],
      "metadata": {
        "colab": {
          "base_uri": "https://localhost:8080/"
        },
        "id": "fbNXfGD-ocpa",
        "outputId": "10cc6799-af89-4557-d18a-f97d429112ab"
      },
      "execution_count": 69,
      "outputs": [
        {
          "output_type": "stream",
          "name": "stdout",
          "text": [
            "{'Pícaros': 0, 'Liga de la Injusticia': 0, 'Sociedad secreta de supervillanos': 0}\n"
          ]
        }
      ]
    },
    {
      "cell_type": "markdown",
      "source": [
        ".items(): Devuelve en parejas las keys y los valores que son parte de esta key"
      ],
      "metadata": {
        "id": "zHsFEX72o2ly"
      }
    },
    {
      "cell_type": "code",
      "source": [
        "liga_justicia.items()"
      ],
      "metadata": {
        "colab": {
          "base_uri": "https://localhost:8080/"
        },
        "id": "K6sGTF-wo2zy",
        "outputId": "724f9102-1180-4e89-d53f-61ee1d6910e1"
      },
      "execution_count": 50,
      "outputs": [
        {
          "output_type": "execute_result",
          "data": {
            "text/plain": [
              "dict_items([('superhéroes', ['Supermán', 'Batman', 'Wonder Woman']), ('Villanos', ['Lex Luthor', 'Joker', 'Cheetah']), ('Identidad secreta', ['Clark Kent', 'Bruce Wayne', 'Diana Prince'])])"
            ]
          },
          "metadata": {},
          "execution_count": 50
        }
      ]
    },
    {
      "cell_type": "markdown",
      "source": [
        ".pop():Se remueve los items pertenecientes a una key removiendo una key especifica"
      ],
      "metadata": {
        "id": "nApIfF3Rp1W5"
      }
    },
    {
      "cell_type": "code",
      "source": [
        "liga_justicia.pop(\"Villanos\")\n",
        "print(liga_justicia)"
      ],
      "metadata": {
        "colab": {
          "base_uri": "https://localhost:8080/"
        },
        "id": "9rIxGO4Ep1hx",
        "outputId": "2fa9e054-44d5-46bf-c2d9-6df375fd4bf7"
      },
      "execution_count": 52,
      "outputs": [
        {
          "output_type": "stream",
          "name": "stdout",
          "text": [
            "{'superhéroes': ['Supermán', 'Batman', 'Wonder Woman'], 'Identidad secreta': ['Clark Kent', 'Bruce Wayne', 'Diana Prince']}\n"
          ]
        }
      ]
    },
    {
      "cell_type": "markdown",
      "source": [
        ".popitem(): Remueve y muestra un item al azar"
      ],
      "metadata": {
        "id": "WmPcn4EiqEBh"
      }
    },
    {
      "cell_type": "code",
      "source": [
        "liga_justicia.popitem()"
      ],
      "metadata": {
        "colab": {
          "base_uri": "https://localhost:8080/"
        },
        "id": "LycCJnsfqERR",
        "outputId": "53cab1de-7804-4c5d-d526-796ad48bb5dd"
      },
      "execution_count": 53,
      "outputs": [
        {
          "output_type": "execute_result",
          "data": {
            "text/plain": [
              "('Identidad secreta', ['Clark Kent', 'Bruce Wayne', 'Diana Prince'])"
            ]
          },
          "metadata": {},
          "execution_count": 53
        }
      ]
    },
    {
      "cell_type": "markdown",
      "source": [
        ".setdefault(): Añadir nuevas keys y items a la lista"
      ],
      "metadata": {
        "id": "CW_Mh0ZxqpIJ"
      }
    },
    {
      "cell_type": "code",
      "source": [
        "liga_justicia.setdefault(\"Villanos\", [\"Lex Luthor\", \"Joker\", \"Cheetah\"])\n",
        "print(liga_justicia)\n",
        "\n",
        "liga_justicia.setdefault(\"Villanos\", [\"El pinguino, 2 caras\"])\n",
        "print(liga_justicia)\n",
        "\n",
        "liga_justicia.setdefault(\"aloados\", [\"Robin\", \"Aquaman\"])\n",
        "print(liga_justicia)"
      ],
      "metadata": {
        "colab": {
          "base_uri": "https://localhost:8080/"
        },
        "id": "7pEs1PPpqpYg",
        "outputId": "ec2c46b1-f03b-4c53-9320-b1ef96319ff9"
      },
      "execution_count": 60,
      "outputs": [
        {
          "output_type": "stream",
          "name": "stdout",
          "text": [
            "{'superhéroes': ['Supermán', 'Batman', 'Wonder Woman'], 'Villanos': ['Lex Luthor', 'Joker', 'Cheetah'], 'allies': ['Robin', 'Aquaman']}\n",
            "{'superhéroes': ['Supermán', 'Batman', 'Wonder Woman'], 'Villanos': ['Lex Luthor', 'Joker', 'Cheetah'], 'allies': ['Robin', 'Aquaman']}\n",
            "{'superhéroes': ['Supermán', 'Batman', 'Wonder Woman'], 'Villanos': ['Lex Luthor', 'Joker', 'Cheetah'], 'allies': ['Robin', 'Aquaman']}\n"
          ]
        }
      ]
    },
    {
      "cell_type": "markdown",
      "source": [
        ".update(): Añadir nuevos items o llaves de otros diccionarios"
      ],
      "metadata": {
        "id": "AmOHKwSgrOtH"
      }
    },
    {
      "cell_type": "code",
      "source": [
        "liga_justicia.update()"
      ],
      "metadata": {
        "id": "dMQLUzbdrPln"
      },
      "execution_count": 64,
      "outputs": []
    },
    {
      "cell_type": "markdown",
      "source": [
        ".values(): Muestra los valores presentes en el diccionario sin su llave correspondiente"
      ],
      "metadata": {
        "id": "IWm0x9aprt9o"
      }
    },
    {
      "cell_type": "code",
      "source": [
        "liga_justicia.values()"
      ],
      "metadata": {
        "colab": {
          "base_uri": "https://localhost:8080/"
        },
        "id": "5dP1WHB9ruaX",
        "outputId": "138c1fb4-3625-422d-e6b2-3c211fc303a1"
      },
      "execution_count": 65,
      "outputs": [
        {
          "output_type": "execute_result",
          "data": {
            "text/plain": [
              "dict_values([['Supermán', 'Batman', 'Wonder Woman'], ['Lex Luthor', 'Joker', 'Cheetah'], ['Robin', 'Aquaman']])"
            ]
          },
          "metadata": {},
          "execution_count": 65
        }
      ]
    }
  ]
}