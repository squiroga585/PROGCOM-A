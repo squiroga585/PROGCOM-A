{
  "nbformat": 4,
  "nbformat_minor": 0,
  "metadata": {
    "colab": {
      "provenance": [],
      "authorship_tag": "ABX9TyN/WU8VpANPcvnvZjb0XAwS",
      "include_colab_link": true
    },
    "kernelspec": {
      "name": "python3",
      "display_name": "Python 3"
    },
    "language_info": {
      "name": "python"
    }
  },
  "cells": [
    {
      "cell_type": "markdown",
      "metadata": {
        "id": "view-in-github",
        "colab_type": "text"
      },
      "source": [
        "<a href=\"https://colab.research.google.com/github/squiroga585/PROGCOM-A/blob/main/Clase_3_Funciones.ipynb\" target=\"_parent\"><img src=\"https://colab.research.google.com/assets/colab-badge.svg\" alt=\"Open In Colab\"/></a>"
      ]
    },
    {
      "cell_type": "markdown",
      "source": [
        "#FUNCIONES\n",
        "Copiado dinámico.\n",
        "Dio nacimiento a un nuevo paradigma de programación llamado programación modular.\n",
        "##Forma general de programar funciones.\n",
        "\n",
        "\n",
        "```\n",
        "def(nombre_de_funcion)(p,p2,p3...pn):\n",
        "\n",
        "   donde p,p2,p3...pn: son parametros\n",
        "```\n",
        "\n"
      ],
      "metadata": {
        "id": "5nHoWMfW3WSv"
      }
    },
    {
      "cell_type": "markdown",
      "source": [
        "1. list()\n",
        "2. len()\n",
        "3. print()\n",
        "4. append()#Metodo\n",
        "5. int()\n",
        "6. input()\n"
      ],
      "metadata": {
        "id": "x8bmb2WF5RYl"
      }
    },
    {
      "cell_type": "markdown",
      "source": [
        "##Tipos de funciones\n",
        "1. Sin parámetros, sin retorno\n",
        "2. Sin parámetros, con retorno\n",
        "3. Con parámetros, sin retorno\n",
        "4. Con parámetros, con retorno"
      ],
      "metadata": {
        "id": "6iiA14bi5011"
      }
    },
    {
      "cell_type": "markdown",
      "source": [
        "###1. Sin parametros, sin retorno\n",
        "se emplea como copiado dinamico"
      ],
      "metadata": {
        "id": "TbPfzu-D_6q_"
      }
    },
    {
      "cell_type": "code",
      "source": [
        "#Ejemplo: Entrada de cajero electrónico\n",
        "def cajero2():#Esto significa que es sin parametros\n",
        "  print(\"Bienvenido a DaviUNAB\")\n",
        "  print(\"Estas son las operaciones que pueden realizar:\")\n",
        "  print(\"1.Retirar\\n2. Transferencia\\n3. Denunciar\\n4. Operacion sin tarjeta\")"
      ],
      "metadata": {
        "id": "8Q8MlEDN_6df"
      },
      "execution_count": null,
      "outputs": []
    },
    {
      "cell_type": "markdown",
      "source": [
        "###2. Sin parametros, con retorno"
      ],
      "metadata": {
        "id": "fpNfVfA36ro8"
      }
    },
    {
      "cell_type": "code",
      "source": [
        "#Ejemplo: Entrada de cajero electrónico\n",
        "def cajero2():#Esto significa que es sin parametros\n",
        "  print(\"Bienvenido a DaviUNAB\")\n",
        "  print(\"Estas son las operaciones que pueden realizar:\")\n",
        "  print(\"1.Retirar\\n2. Transferencia\\n3. Denunciar\\n4. Operacion sin tarjeta\")\n",
        "  rta=input(\"Ingrese una opcion\")#Variable local\n",
        "  return rta#Vuela una variable local a global"
      ],
      "metadata": {
        "id": "tFpg0mc-6tBF"
      },
      "execution_count": 31,
      "outputs": []
    },
    {
      "cell_type": "code",
      "source": [
        "cajero2()"
      ],
      "metadata": {
        "colab": {
          "base_uri": "https://localhost:8080/",
          "height": 163
        },
        "id": "KBS22ViR8zH7",
        "outputId": "27f42b37-3cc0-49dd-c40a-6cf7fc6f4c25"
      },
      "execution_count": 32,
      "outputs": [
        {
          "name": "stdout",
          "output_type": "stream",
          "text": [
            "Bienvenido a DaviUNAB\n",
            "Estas son las operaciones que pueden realizar:\n",
            "1.Retirar\n",
            "2. Transferencia\n",
            "3. Denunciar\n",
            "4. Operacion sin tarjeta\n",
            "Ingrese una opcion1\n"
          ]
        },
        {
          "output_type": "execute_result",
          "data": {
            "text/plain": [
              "'1'"
            ],
            "application/vnd.google.colaboratory.intrinsic+json": {
              "type": "string"
            }
          },
          "metadata": {},
          "execution_count": 32
        }
      ]
    },
    {
      "cell_type": "code",
      "source": [
        "rta=cajero2()"
      ],
      "metadata": {
        "colab": {
          "base_uri": "https://localhost:8080/"
        },
        "id": "1oZgIztH-9I4",
        "outputId": "c1a74496-6b62-4216-a8bb-d77b07cef084"
      },
      "execution_count": 33,
      "outputs": [
        {
          "name": "stdout",
          "output_type": "stream",
          "text": [
            "Bienvenido a DaviUNAB\n",
            "Estas son las operaciones que pueden realizar:\n",
            "1.Retirar\n",
            "2. Transferencia\n",
            "3. Denunciar\n",
            "4. Operacion sin tarjeta\n",
            "Ingrese una opcion1\n"
          ]
        }
      ]
    },
    {
      "cell_type": "code",
      "source": [
        "type(rta)"
      ],
      "metadata": {
        "id": "NIkqPcZ7_feA"
      },
      "execution_count": null,
      "outputs": []
    },
    {
      "cell_type": "markdown",
      "source": [
        "###3. Con parámetros, sin retorno"
      ],
      "metadata": {
        "id": "cPhiqDZa9CyB"
      }
    },
    {
      "cell_type": "code",
      "source": [
        "#Ejemplo: el área de un rectángulo\n",
        "def ab(u,du):\n",
        "  print(f\"El area de un rectangulo de base {u} y altura {du} es {u*du}\")"
      ],
      "metadata": {
        "id": "ETcEq3aBAj3u"
      },
      "execution_count": null,
      "outputs": []
    },
    {
      "cell_type": "code",
      "source": [
        "#Ejemplo: el área de un rectángulo\n",
        "def area_rectangulo(u,du):\n",
        "  return f\"El area de un rectangulo de base {u} y altura {du} es {u*du}\""
      ],
      "metadata": {
        "id": "v9CoKnnZBpy1"
      },
      "execution_count": 34,
      "outputs": []
    },
    {
      "cell_type": "code",
      "source": [
        "a=area_rectangulo(10,15)"
      ],
      "metadata": {
        "id": "NgGpl8ydCBqt"
      },
      "execution_count": 35,
      "outputs": []
    },
    {
      "cell_type": "code",
      "source": [
        "print(a)"
      ],
      "metadata": {
        "colab": {
          "base_uri": "https://localhost:8080/"
        },
        "id": "fkYM5PD4CHO1",
        "outputId": "0a3f5a1f-7bf8-480e-afb2-2736650e2dd7"
      },
      "execution_count": 36,
      "outputs": [
        {
          "output_type": "stream",
          "name": "stdout",
          "text": [
            "El area de un rectangulo de base 10 y altura 15 es 150\n"
          ]
        }
      ]
    },
    {
      "cell_type": "markdown",
      "source": [
        "##FUNCIONES ANÓNIMAS O LAMBDA\n",
        "1. Siempre usan parámetros\n",
        "2. Siempre generaa retorno\n",
        "3. No tienen nombre -->anónimos\n",
        "4. **Se puede emplear n parámetros, pero sólo ejecuta una línea de código**\n",
        "###Definición de funciones LAMBDA\n",
        "```\n",
        "variable=lambda (p,p1,p2,...,pn):\n",
        "operación\n",
        "```\n",
        "\n"
      ],
      "metadata": {
        "id": "Zr0jvqGqDOgE"
      }
    },
    {
      "cell_type": "code",
      "source": [
        "#Ejemplo: calcular el área de un triángulo\n",
        "area_triangulo=lambda a,b:a*b/2"
      ],
      "metadata": {
        "id": "VvkZe8buE17C"
      },
      "execution_count": null,
      "outputs": []
    },
    {
      "cell_type": "code",
      "source": [
        "area_triangulo(3,8)"
      ],
      "metadata": {
        "id": "pe63U8HtE_Iq"
      },
      "execution_count": null,
      "outputs": []
    },
    {
      "cell_type": "code",
      "source": [
        "x=int(input(\"Ingrese la altura de un triángulo\"))\n",
        "y=int(input(\"Ingrese la base de un triángulo\"))\n",
        "area_triangulo(x,y)"
      ],
      "metadata": {
        "id": "fBy37Jr6FhVb"
      },
      "execution_count": null,
      "outputs": []
    },
    {
      "cell_type": "code",
      "source": [
        "area_circulo= lambda q: (3.14*q**2)"
      ],
      "metadata": {
        "id": "rOaQlzupGr6J"
      },
      "execution_count": 39,
      "outputs": []
    },
    {
      "cell_type": "code",
      "source": [
        "area_circulo(2)"
      ],
      "metadata": {
        "colab": {
          "base_uri": "https://localhost:8080/"
        },
        "id": "5PP4bjb7HDJZ",
        "outputId": "1ba313b2-ffc0-4073-bb2e-ac47dcf58f80"
      },
      "execution_count": 41,
      "outputs": [
        {
          "output_type": "execute_result",
          "data": {
            "text/plain": [
              "12.56"
            ]
          },
          "metadata": {},
          "execution_count": 41
        }
      ]
    },
    {
      "cell_type": "code",
      "source": [
        "numero_mayor= lambda y,t,p: (max(y,t,p))"
      ],
      "metadata": {
        "id": "sdjn_A5hIKPx"
      },
      "execution_count": 51,
      "outputs": []
    },
    {
      "cell_type": "code",
      "source": [
        "numero_mayor(3,4,5)"
      ],
      "metadata": {
        "colab": {
          "base_uri": "https://localhost:8080/"
        },
        "id": "WtwKujBdIirI",
        "outputId": "3eec8e9c-d45e-45c8-a999-ea1d406ac1e1"
      },
      "execution_count": 50,
      "outputs": [
        {
          "output_type": "execute_result",
          "data": {
            "text/plain": [
              "5"
            ]
          },
          "metadata": {},
          "execution_count": 50
        }
      ]
    },
    {
      "cell_type": "code",
      "source": [
        "if_mayor= lambda t,e,g: t if t > e and t > g else e if e > g else g"
      ],
      "metadata": {
        "id": "-q6McLNlJMn5"
      },
      "execution_count": 61,
      "outputs": []
    },
    {
      "cell_type": "code",
      "source": [
        "if_mayor(2,9,6)"
      ],
      "metadata": {
        "colab": {
          "base_uri": "https://localhost:8080/"
        },
        "id": "E7Yj8N-sKNAS",
        "outputId": "aa85640e-ddf9-4302-ca4c-d0a091403e4e"
      },
      "execution_count": 60,
      "outputs": [
        {
          "output_type": "execute_result",
          "data": {
            "text/plain": [
              "9"
            ]
          },
          "metadata": {},
          "execution_count": 60
        }
      ]
    }
  ]
}