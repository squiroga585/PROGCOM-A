{
  "cells": [
    {
      "cell_type": "markdown",
      "metadata": {
        "id": "view-in-github",
        "colab_type": "text"
      },
      "source": [
        "<a href=\"https://colab.research.google.com/github/squiroga585/PROGCOM-A/blob/main/CQ8.ipynb\" target=\"_parent\"><img src=\"https://colab.research.google.com/assets/colab-badge.svg\" alt=\"Open In Colab\"/></a>"
      ]
    },
    {
      "cell_type": "markdown",
      "metadata": {
        "id": "-7G9S4Wb9wQb"
      },
      "source": [
        "IndentationError: esto sucede por que la identacion no esta bien coloca como con espacios o tabulaciones"
      ]
    },
    {
      "cell_type": "code",
      "execution_count": null,
      "metadata": {
        "colab": {
          "base_uri": "https://localhost:8080/",
          "height": 106
        },
        "id": "whZYq-QA8XVo",
        "outputId": "56763eac-2eeb-4a34-a4b9-115bac5bc3cf"
      },
      "outputs": [
        {
          "ename": "IndentationError",
          "evalue": "expected an indented block after 'if' statement on line 1 (ipython-input-679688439.py, line 2)",
          "output_type": "error",
          "traceback": [
            "\u001b[0;36m  File \u001b[0;32m\"/tmp/ipython-input-679688439.py\"\u001b[0;36m, line \u001b[0;32m2\u001b[0m\n\u001b[0;31m    print(\"Hola\")\u001b[0m\n\u001b[0m    ^\u001b[0m\n\u001b[0;31mIndentationError\u001b[0m\u001b[0;31m:\u001b[0m expected an indented block after 'if' statement on line 1\n"
          ]
        }
      ],
      "source": [
        "if True:\n",
        "print(\"Hola\")"
      ]
    },
    {
      "cell_type": "markdown",
      "metadata": {
        "id": "3rbOJbGn-dMI"
      },
      "source": [
        "ahora que separemos las tabulaciones o espacios ya va a estar bien el codigo"
      ]
    },
    {
      "cell_type": "code",
      "execution_count": null,
      "metadata": {
        "colab": {
          "base_uri": "https://localhost:8080/"
        },
        "id": "yKGLCM21-SfH",
        "outputId": "992abaf5-d7ea-4e58-fb04-e3eea9e1f081"
      },
      "outputs": [
        {
          "name": "stdout",
          "output_type": "stream",
          "text": [
            "Hola\n"
          ]
        }
      ],
      "source": [
        "if True:\n",
        "    print(\"Hola\")"
      ]
    },
    {
      "cell_type": "markdown",
      "metadata": {
        "id": "QIEqXSAj-jRn"
      },
      "source": [
        "AttributeError: eso pasa cuanto intenta usar un metodo que no existe"
      ]
    },
    {
      "cell_type": "code",
      "execution_count": null,
      "metadata": {
        "colab": {
          "base_uri": "https://localhost:8080/",
          "height": 159
        },
        "id": "UPHZHJt6-ppB",
        "outputId": "e08273f8-9728-4745-8dff-2d788529a707"
      },
      "outputs": [
        {
          "ename": "AttributeError",
          "evalue": "'str' object has no attribute 'push'",
          "output_type": "error",
          "traceback": [
            "\u001b[0;31m---------------------------------------------------------------------------\u001b[0m",
            "\u001b[0;31mAttributeError\u001b[0m                            Traceback (most recent call last)",
            "\u001b[0;32m/tmp/ipython-input-1166890196.py\u001b[0m in \u001b[0;36m<cell line: 0>\u001b[0;34m()\u001b[0m\n\u001b[1;32m      1\u001b[0m \u001b[0mtexto\u001b[0m \u001b[0;34m=\u001b[0m \u001b[0;34m\"hola\"\u001b[0m\u001b[0;34m\u001b[0m\u001b[0;34m\u001b[0m\u001b[0m\n\u001b[0;32m----> 2\u001b[0;31m \u001b[0mprint\u001b[0m\u001b[0;34m(\u001b[0m\u001b[0mtexto\u001b[0m\u001b[0;34m.\u001b[0m\u001b[0mpush\u001b[0m\u001b[0;34m(\u001b[0m\u001b[0;34m)\u001b[0m\u001b[0;34m)\u001b[0m\u001b[0;34m\u001b[0m\u001b[0;34m\u001b[0m\u001b[0m\n\u001b[0m",
            "\u001b[0;31mAttributeError\u001b[0m: 'str' object has no attribute 'push'"
          ]
        }
      ],
      "source": [
        "texto = \"hola\"\n",
        "print(texto.push())"
      ]
    },
    {
      "cell_type": "markdown",
      "metadata": {
        "id": "bu87N126-rWJ"
      },
      "source": [
        "verificar que el metodo que puso realmente exita para ese tipo de dato"
      ]
    },
    {
      "cell_type": "code",
      "execution_count": null,
      "metadata": {
        "colab": {
          "base_uri": "https://localhost:8080/"
        },
        "id": "eSTdtARk-rkB",
        "outputId": "194d3992-3867-4d7a-8884-9496bbfd024e"
      },
      "outputs": [
        {
          "name": "stdout",
          "output_type": "stream",
          "text": [
            "HOLA\n"
          ]
        }
      ],
      "source": [
        "texto = \"hola\"\n",
        "print(texto.upper())"
      ]
    },
    {
      "cell_type": "markdown",
      "metadata": {
        "id": "HP-pcFdr-9cr"
      },
      "source": [
        "valueError pasa cuando un valor no es valido para la operacion"
      ]
    },
    {
      "cell_type": "code",
      "execution_count": null,
      "metadata": {
        "colab": {
          "base_uri": "https://localhost:8080/",
          "height": 141
        },
        "id": "ZYEgFevw-99k",
        "outputId": "d08b1a62-af1e-438b-ae27-438a74ebee51"
      },
      "outputs": [
        {
          "ename": "ValueError",
          "evalue": "invalid literal for int() with base 10: 'hola'",
          "output_type": "error",
          "traceback": [
            "\u001b[0;31m---------------------------------------------------------------------------\u001b[0m",
            "\u001b[0;31mValueError\u001b[0m                                Traceback (most recent call last)",
            "\u001b[0;32m/tmp/ipython-input-186692444.py\u001b[0m in \u001b[0;36m<cell line: 0>\u001b[0;34m()\u001b[0m\n\u001b[0;32m----> 1\u001b[0;31m \u001b[0mnumero\u001b[0m \u001b[0;34m=\u001b[0m \u001b[0mint\u001b[0m\u001b[0;34m(\u001b[0m\u001b[0;34m\"hola\"\u001b[0m\u001b[0;34m)\u001b[0m  \u001b[0;31m# ValueError\u001b[0m\u001b[0;34m\u001b[0m\u001b[0;34m\u001b[0m\u001b[0m\n\u001b[0m",
            "\u001b[0;31mValueError\u001b[0m: invalid literal for int() with base 10: 'hola'"
          ]
        }
      ],
      "source": [
        "numero = int(\"hola\")  # ValueError"
      ]
    },
    {
      "cell_type": "markdown",
      "metadata": {
        "id": "QAJ-pGIg_Ilt"
      },
      "source": [
        "se pasa un valor correcto que pueda convertirse en un numero"
      ]
    },
    {
      "cell_type": "code",
      "execution_count": null,
      "metadata": {
        "colab": {
          "base_uri": "https://localhost:8080/"
        },
        "id": "PcVTN88D_I4X",
        "outputId": "c377ecfd-aeb1-4ec7-dcc9-d29c514e24dc"
      },
      "outputs": [
        {
          "name": "stdout",
          "output_type": "stream",
          "text": [
            "10\n"
          ]
        }
      ],
      "source": [
        "numero = int(\"10\")\n",
        "print(numero)"
      ]
    },
    {
      "cell_type": "markdown",
      "metadata": {
        "id": "Ly6NRgwY_PGN"
      },
      "source": [
        "sintaxerror pasa cuando el codigo esta mal escrito o no sigue las reglas de python"
      ]
    },
    {
      "cell_type": "code",
      "execution_count": null,
      "metadata": {
        "colab": {
          "base_uri": "https://localhost:8080/",
          "height": 106
        },
        "id": "DDcABJQx_pNR",
        "outputId": "340d8b93-1d70-4c87-ed7d-1a17dc08ca39"
      },
      "outputs": [
        {
          "ename": "SyntaxError",
          "evalue": "invalid syntax (ipython-input-2145255486.py, line 1)",
          "output_type": "error",
          "traceback": [
            "\u001b[0;36m  File \u001b[0;32m\"/tmp/ipython-input-2145255486.py\"\u001b[0;36m, line \u001b[0;32m1\u001b[0m\n\u001b[0;31m    if True print(\"Hola\")\u001b[0m\n\u001b[0m            ^\u001b[0m\n\u001b[0;31mSyntaxError\u001b[0m\u001b[0;31m:\u001b[0m invalid syntax\n"
          ]
        }
      ],
      "source": [
        "if True print(\"hola me llamo jose\")"
      ]
    },
    {
      "cell_type": "markdown",
      "metadata": {
        "id": "12M2YswG_q_C"
      },
      "source": [
        "se agregan los 2 puntos para que no de el error"
      ]
    },
    {
      "cell_type": "code",
      "execution_count": null,
      "metadata": {
        "colab": {
          "base_uri": "https://localhost:8080/"
        },
        "id": "Bv4Q5uz-_rMB",
        "outputId": "e636f59f-5199-404c-a375-c38bb10a8838"
      },
      "outputs": [
        {
          "name": "stdout",
          "output_type": "stream",
          "text": [
            "Hola\n"
          ]
        }
      ],
      "source": [
        "if True:\n",
        "    print(\"hola me llamo jose\")"
      ]
    },
    {
      "cell_type": "markdown",
      "metadata": {
        "id": "6hL7Oou-_1va"
      },
      "source": [
        "modulenotfounderrorr (r, se la puse para que no me tomara el comando profe) aparece cuanto intenta importar un modulo que no esta instalado"
      ]
    },
    {
      "cell_type": "code",
      "execution_count": null,
      "metadata": {
        "colab": {
          "base_uri": "https://localhost:8080/",
          "height": 314
        },
        "id": "JwgbkRaqAEQE",
        "outputId": "3433e1cc-a680-43ea-a0f5-7070721b2513"
      },
      "outputs": [
        {
          "ename": "ModuleNotFoundError",
          "evalue": "No module named 'numpi'",
          "output_type": "error",
          "traceback": [
            "\u001b[0;31m---------------------------------------------------------------------------\u001b[0m",
            "\u001b[0;31mModuleNotFoundError\u001b[0m                       Traceback (most recent call last)",
            "\u001b[0;32m/tmp/ipython-input-2490599525.py\u001b[0m in \u001b[0;36m<cell line: 0>\u001b[0;34m()\u001b[0m\n\u001b[0;32m----> 1\u001b[0;31m \u001b[0;32mimport\u001b[0m \u001b[0mnumpi\u001b[0m\u001b[0;34m\u001b[0m\u001b[0;34m\u001b[0m\u001b[0m\n\u001b[0m",
            "\u001b[0;31mModuleNotFoundError\u001b[0m: No module named 'numpi'",
            "",
            "\u001b[0;31m---------------------------------------------------------------------------\u001b[0;32m\nNOTE: If your import is failing due to a missing package, you can\nmanually install dependencies using either !pip or !apt.\n\nTo view examples of installing some common dependencies, click the\n\"Open Examples\" button below.\n\u001b[0;31m---------------------------------------------------------------------------\u001b[0m\n"
          ]
        }
      ],
      "source": [
        "import numpi"
      ]
    },
    {
      "cell_type": "markdown",
      "metadata": {
        "id": "0CumIekbAGMl"
      },
      "source": [
        "se importa el modulo correcto (numpy) en lugar de numpi"
      ]
    },
    {
      "cell_type": "code",
      "execution_count": null,
      "metadata": {
        "colab": {
          "base_uri": "https://localhost:8080/"
        },
        "id": "Sm81fR_9AGdU",
        "outputId": "1c4c2f31-47ca-4042-c9df-8e21442d6076"
      },
      "outputs": [
        {
          "name": "stdout",
          "output_type": "stream",
          "text": [
            "[1 2 3]\n"
          ]
        }
      ],
      "source": [
        "import numpy\n",
        "print(numpy.array([1, 2, 3]))"
      ]
    }
  ],
  "metadata": {
    "colab": {
      "provenance": [],
      "include_colab_link": true
    },
    "kernelspec": {
      "display_name": "Python 3",
      "name": "python3"
    },
    "language_info": {
      "name": "python"
    }
  },
  "nbformat": 4,
  "nbformat_minor": 0
}