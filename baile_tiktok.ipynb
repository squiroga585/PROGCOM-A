{
  "nbformat": 4,
  "nbformat_minor": 0,
  "metadata": {
    "colab": {
      "provenance": [],
      "authorship_tag": "ABX9TyPoqdJQwPaUt9kEVc0sM0kT",
      "include_colab_link": true
    },
    "kernelspec": {
      "name": "python3",
      "display_name": "Python 3"
    },
    "language_info": {
      "name": "python"
    }
  },
  "cells": [
    {
      "cell_type": "markdown",
      "metadata": {
        "id": "view-in-github",
        "colab_type": "text"
      },
      "source": [
        "<a href=\"https://colab.research.google.com/github/squiroga585/PROGCOM-A/blob/main/baile_tiktok.ipynb\" target=\"_parent\"><img src=\"https://colab.research.google.com/assets/colab-badge.svg\" alt=\"Open In Colab\"/></a>"
      ]
    },
    {
      "cell_type": "code",
      "execution_count": null,
      "metadata": {
        "id": "LN5ML0lcgjBs"
      },
      "outputs": [],
      "source": []
    },
    {
      "cell_type": "code",
      "metadata": {
        "colab": {
          "base_uri": "https://localhost:8080/"
        },
        "id": "5dbd6f02",
        "outputId": "66ba0db2-6e36-48b5-8c74-4af38c0085dd"
      },
      "source": [
        "def ponerse_de_lado():\n",
        "  print(\"ponerse de lado\")\n",
        "\n",
        "def hacer_circulo_cadera():\n",
        "  print(\"hacer un circulo con la cadera\")\n",
        "\n",
        "def agitar_manos_aire():\n",
        "  print(\"con las 2 manos agitar al aire\")\n",
        "\n",
        "def llevar_manos_abajo():\n",
        "  print(\"llevar las manos hacia abajo\")\n",
        "\n",
        "def llevar_mano_derecha():\n",
        "  print(\"llevar una mano hacia la derecha\")\n",
        "\n",
        "def llevar_mano_izquierda():\n",
        "  print(\"llevar una mano a la izquierda\")\n",
        "\n",
        "def realizar_acciones():\n",
        "  acciones = [\n",
        "      ponerse_de_lado,\n",
        "      lambda: print(\"estirar los brazos\"),\n",
        "      lambda: print(\"ponerse de frente\"),\n",
        "      lambda: print(\"saludo militar\"),\n",
        "      lambda: print(\"pasar la mano izquierda por detras de la cabeza\"),\n",
        "      lambda: print(\"pasar la mano derecha al torso\"),\n",
        "      ponerse_de_lado,\n",
        "      lambda: print(\"ponerse las manos en las caderas\"),\n",
        "      lambda: print(\"ponerse mirando al frente\"),\n",
        "      hacer_circulo_cadera,\n",
        "      agitar_manos_aire,\n",
        "      llevar_manos_abajo,\n",
        "      llevar_mano_derecha,\n",
        "      llevar_mano_izquierda,\n",
        "      lambda: print(\"ir hacia la derecha\"),\n",
        "      lambda: print(\"ir hacia la izquierda\"),\n",
        "      hacer_circulo_cadera,\n",
        "      agitar_manos_aire,\n",
        "      llevar_manos_abajo,\n",
        "      llevar_mano_derecha,\n",
        "      llevar_mano_izquierda,\n",
        "      lambda: print(\"mover las caderas\"),\n",
        "      lambda: print(\"llevar una mano hacia adelante\"),\n",
        "      lambda: print(\"llevar las manos hacia arriba detras de la cabeza\"),\n",
        "      lambda: print(\"dar una vuelta\"),\n",
        "      lambda: print(\"levanta el brazo izquierdo\")\n",
        "  ]\n",
        "\n",
        "  for accion in acciones:\n",
        "    accion()\n",
        "\n",
        "realizar_acciones()"
      ],
      "execution_count": 2,
      "outputs": [
        {
          "output_type": "stream",
          "name": "stdout",
          "text": [
            "ponerse de lado\n",
            "estirar los brazos\n",
            "ponerse de frente\n",
            "saludo militar\n",
            "pasar la mano izquierda por detras de la cabeza\n",
            "pasar la mano derecha al torso\n",
            "ponerse de lado\n",
            "ponerse las manos en las caderas\n",
            "ponerse mirando al frente\n",
            "hacer un circulo con la cadera\n",
            "con las 2 manos agitar al aire\n",
            "llevar las manos hacia abajo\n",
            "llevar una mano hacia la derecha\n",
            "llevar una mano a la izquierda\n",
            "ir hacia la derecha\n",
            "ir hacia la izquierda\n",
            "hacer un circulo con la cadera\n",
            "con las 2 manos agitar al aire\n",
            "llevar las manos hacia abajo\n",
            "llevar una mano hacia la derecha\n",
            "llevar una mano a la izquierda\n",
            "mover las caderas\n",
            "llevar una mano hacia adelante\n",
            "llevar las manos hacia arriba detras de la cabeza\n",
            "dar una vuelta\n",
            "levanta el brazo izquierdo\n"
          ]
        }
      ]
    }
  ]
}