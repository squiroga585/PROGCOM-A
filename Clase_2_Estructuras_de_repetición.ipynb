{
  "nbformat": 4,
  "nbformat_minor": 0,
  "metadata": {
    "colab": {
      "provenance": [],
      "authorship_tag": "ABX9TyN5mCabpwqgqVLy9Y0Qh8WF",
      "include_colab_link": true
    },
    "kernelspec": {
      "name": "python3",
      "display_name": "Python 3"
    },
    "language_info": {
      "name": "python"
    }
  },
  "cells": [
    {
      "cell_type": "markdown",
      "metadata": {
        "id": "view-in-github",
        "colab_type": "text"
      },
      "source": [
        "<a href=\"https://colab.research.google.com/github/squiroga585/PROGCOM-A/blob/main/Clase_2_Estructuras_de_repetici%C3%B3n.ipynb\" target=\"_parent\"><img src=\"https://colab.research.google.com/assets/colab-badge.svg\" alt=\"Open In Colab\"/></a>"
      ]
    },
    {
      "cell_type": "markdown",
      "source": [
        "#Estructuras de repetición\n",
        "Permite repetir una o más acciones de acuerdo con una condición"
      ],
      "metadata": {
        "id": "WJCtkO_MQ9JD"
      }
    },
    {
      "cell_type": "markdown",
      "source": [
        "##Estructura para - for\n",
        "\n",
        "1. Cuando se sabe cuántas veces se repite una acción.\n",
        "2. Está conformado por una condicion inicial (CI) una condición final (CF) y pasos (frecuencia de repetición).\n",
        "3. Esta estructura no se detendrá, hasta alcanzar CF-1\n",
        "\n",
        "Estructura general del for\n",
        "```\n",
        "for (variable) in ranfe (CI, CF+1, paso):\n",
        "  Se repite (CF+1-CI)/paso veces una acción\n",
        "```\n",
        "Estructura resumida del for\n",
        "```\n",
        "for (variable) in range(cantidad):\n",
        "  Se repite cantidad de veces una acción\n",
        "```\n",
        "Estructura for como iteración\n",
        "1. El para (for) itera tantas veces, como elementos tenga la lista\n",
        "2. La variable toma el valor de cada elemento de la lista por iteración\n",
        "```\n",
        "Lista=[1,2,3,4,5]\n",
        "for (variable) in Lista:\n",
        " se repite len(Lista)\n",
        "```\n",
        "\n",
        "\n",
        "\n",
        "\n"
      ],
      "metadata": {
        "id": "_Rte0CDdRQ2z"
      }
    },
    {
      "cell_type": "code",
      "source": [
        "#Hacer la tabla de multiplicar de un número n\n",
        "n=int(input(\"Digita un número:\"))"
      ],
      "metadata": {
        "colab": {
          "base_uri": "https://localhost:8080/"
        },
        "id": "La93J7fBTzUZ",
        "outputId": "abfda75a-6a81-4228-cea9-d8de1afacba8"
      },
      "execution_count": null,
      "outputs": [
        {
          "name": "stdout",
          "output_type": "stream",
          "text": [
            "Digita un número:7\n"
          ]
        }
      ]
    },
    {
      "cell_type": "code",
      "source": [
        "print(f\"Tabla del {n}\")\n",
        "for holitas in range(1,11,1):\n",
        "  print(f\"{n} x {holitas}= {n*holitas}\")"
      ],
      "metadata": {
        "colab": {
          "base_uri": "https://localhost:8080/"
        },
        "id": "46SNt5fzUSs5",
        "outputId": "19e8c20d-c8b1-4ec9-d8b9-eaeaa9063a08"
      },
      "execution_count": null,
      "outputs": [
        {
          "output_type": "stream",
          "name": "stdout",
          "text": [
            "Tabla del 7\n",
            "7 x 1= 7\n",
            "7 x 2= 14\n",
            "7 x 3= 21\n",
            "7 x 4= 28\n",
            "7 x 5= 35\n",
            "7 x 6= 42\n",
            "7 x 7= 49\n",
            "7 x 8= 56\n",
            "7 x 9= 63\n",
            "7 x 10= 70\n"
          ]
        }
      ]
    },
    {
      "cell_type": "code",
      "source": [
        "print(\"Tablas del 1 al 10\\n\")\n",
        "print(\"\")\n",
        "for tabla in range(1,11):\n",
        "  print(f\"tabla del {tabla}\")\n",
        "  for numero in range(1,11):\n",
        "    print(f\"{tabla} x {numero} = {tabla*numero}\")\n",
        "  print(\"\")"
      ],
      "metadata": {
        "colab": {
          "base_uri": "https://localhost:8080/"
        },
        "id": "SpYVzB0EWVjA",
        "outputId": "b06156b3-7641-48b6-8399-250c1cd4560e"
      },
      "execution_count": null,
      "outputs": [
        {
          "output_type": "stream",
          "name": "stdout",
          "text": [
            "Tablas del 1 al 10\n",
            "\n",
            "\n",
            "tabla del 1\n",
            "1 x 1 = 1\n",
            "1 x 2 = 2\n",
            "1 x 3 = 3\n",
            "1 x 4 = 4\n",
            "1 x 5 = 5\n",
            "1 x 6 = 6\n",
            "1 x 7 = 7\n",
            "1 x 8 = 8\n",
            "1 x 9 = 9\n",
            "1 x 10 = 10\n",
            "\n",
            "tabla del 2\n",
            "2 x 1 = 2\n",
            "2 x 2 = 4\n",
            "2 x 3 = 6\n",
            "2 x 4 = 8\n",
            "2 x 5 = 10\n",
            "2 x 6 = 12\n",
            "2 x 7 = 14\n",
            "2 x 8 = 16\n",
            "2 x 9 = 18\n",
            "2 x 10 = 20\n",
            "\n",
            "tabla del 3\n",
            "3 x 1 = 3\n",
            "3 x 2 = 6\n",
            "3 x 3 = 9\n",
            "3 x 4 = 12\n",
            "3 x 5 = 15\n",
            "3 x 6 = 18\n",
            "3 x 7 = 21\n",
            "3 x 8 = 24\n",
            "3 x 9 = 27\n",
            "3 x 10 = 30\n",
            "\n",
            "tabla del 4\n",
            "4 x 1 = 4\n",
            "4 x 2 = 8\n",
            "4 x 3 = 12\n",
            "4 x 4 = 16\n",
            "4 x 5 = 20\n",
            "4 x 6 = 24\n",
            "4 x 7 = 28\n",
            "4 x 8 = 32\n",
            "4 x 9 = 36\n",
            "4 x 10 = 40\n",
            "\n",
            "tabla del 5\n",
            "5 x 1 = 5\n",
            "5 x 2 = 10\n",
            "5 x 3 = 15\n",
            "5 x 4 = 20\n",
            "5 x 5 = 25\n",
            "5 x 6 = 30\n",
            "5 x 7 = 35\n",
            "5 x 8 = 40\n",
            "5 x 9 = 45\n",
            "5 x 10 = 50\n",
            "\n",
            "tabla del 6\n",
            "6 x 1 = 6\n",
            "6 x 2 = 12\n",
            "6 x 3 = 18\n",
            "6 x 4 = 24\n",
            "6 x 5 = 30\n",
            "6 x 6 = 36\n",
            "6 x 7 = 42\n",
            "6 x 8 = 48\n",
            "6 x 9 = 54\n",
            "6 x 10 = 60\n",
            "\n",
            "tabla del 7\n",
            "7 x 1 = 7\n",
            "7 x 2 = 14\n",
            "7 x 3 = 21\n",
            "7 x 4 = 28\n",
            "7 x 5 = 35\n",
            "7 x 6 = 42\n",
            "7 x 7 = 49\n",
            "7 x 8 = 56\n",
            "7 x 9 = 63\n",
            "7 x 10 = 70\n",
            "\n",
            "tabla del 8\n",
            "8 x 1 = 8\n",
            "8 x 2 = 16\n",
            "8 x 3 = 24\n",
            "8 x 4 = 32\n",
            "8 x 5 = 40\n",
            "8 x 6 = 48\n",
            "8 x 7 = 56\n",
            "8 x 8 = 64\n",
            "8 x 9 = 72\n",
            "8 x 10 = 80\n",
            "\n",
            "tabla del 9\n",
            "9 x 1 = 9\n",
            "9 x 2 = 18\n",
            "9 x 3 = 27\n",
            "9 x 4 = 36\n",
            "9 x 5 = 45\n",
            "9 x 6 = 54\n",
            "9 x 7 = 63\n",
            "9 x 8 = 72\n",
            "9 x 9 = 81\n",
            "9 x 10 = 90\n",
            "\n",
            "tabla del 10\n",
            "10 x 1 = 10\n",
            "10 x 2 = 20\n",
            "10 x 3 = 30\n",
            "10 x 4 = 40\n",
            "10 x 5 = 50\n",
            "10 x 6 = 60\n",
            "10 x 7 = 70\n",
            "10 x 8 = 80\n",
            "10 x 9 = 90\n",
            "10 x 10 = 100\n",
            "\n"
          ]
        }
      ]
    },
    {
      "cell_type": "code",
      "source": [
        "print(f\"Tabla del {n}\")\n",
        "for holitas in range(10):\n",
        "  print(f\"{n} x {holitas+1} = {n*(holitas+1)}\")"
      ],
      "metadata": {
        "colab": {
          "base_uri": "https://localhost:8080/"
        },
        "id": "GAzDC9VyY3Av",
        "outputId": "6e7bdca0-32d3-4add-a85d-a7489e6777b0"
      },
      "execution_count": null,
      "outputs": [
        {
          "output_type": "stream",
          "name": "stdout",
          "text": [
            "Tabla del 7\n",
            "7 x 1 = 7\n",
            "7 x 2 = 14\n",
            "7 x 3 = 21\n",
            "7 x 4 = 28\n",
            "7 x 5 = 35\n",
            "7 x 6 = 42\n",
            "7 x 7 = 49\n",
            "7 x 8 = 56\n",
            "7 x 9 = 63\n",
            "7 x 10 = 70\n"
          ]
        }
      ]
    },
    {
      "cell_type": "code",
      "source": [
        "n=7\n",
        "print(f\"tabla del {n}\")\n",
        "for holitas in range(1,11*n,n):\n",
        "  print(f\"{n} x {int(holitas/n)} = {(n*holitas/n)-1}\")"
      ],
      "metadata": {
        "colab": {
          "base_uri": "https://localhost:8080/"
        },
        "id": "LPup6IeoZUlH",
        "outputId": "91783eeb-7138-450c-bd0d-3ad5257fcd6b"
      },
      "execution_count": null,
      "outputs": [
        {
          "output_type": "stream",
          "name": "stdout",
          "text": [
            "tabla del 7\n",
            "7 x 0 = 0.0\n",
            "7 x 1 = 7.0\n",
            "7 x 2 = 14.0\n",
            "7 x 3 = 21.0\n",
            "7 x 4 = 28.0\n",
            "7 x 5 = 35.0\n",
            "7 x 6 = 42.0\n",
            "7 x 7 = 49.0\n",
            "7 x 8 = 56.0\n",
            "7 x 9 = 63.0\n",
            "7 x 10 = 70.0\n"
          ]
        }
      ]
    },
    {
      "cell_type": "code",
      "source": [
        "n=7\n",
        "print(f\"tabla del {n}\")\n",
        "for holitas in range(1,11*n,n):\n",
        "  print(f\"{n} x {int(holitas/n)} = {n*int(holitas/n)}\")"
      ],
      "metadata": {
        "colab": {
          "base_uri": "https://localhost:8080/"
        },
        "id": "S7EhJdbYfnGz",
        "outputId": "6857b1c7-636c-4b95-c510-1a13c284e97c"
      },
      "execution_count": null,
      "outputs": [
        {
          "output_type": "stream",
          "name": "stdout",
          "text": [
            "tabla del 7\n",
            "7 x 0 = 0\n",
            "7 x 1 = 7\n",
            "7 x 2 = 14\n",
            "7 x 3 = 21\n",
            "7 x 4 = 28\n",
            "7 x 5 = 35\n",
            "7 x 6 = 42\n",
            "7 x 7 = 49\n",
            "7 x 8 = 56\n",
            "7 x 9 = 63\n",
            "7 x 10 = 70\n"
          ]
        }
      ]
    },
    {
      "cell_type": "code",
      "source": [
        "numeros=[1,2,3,4,5,6,7,8,9,10]\n",
        "for num in numeros:\n",
        "  print(f\"{n} x {num} ={n*num}\")"
      ],
      "metadata": {
        "colab": {
          "base_uri": "https://localhost:8080/"
        },
        "id": "mlqodVILgMHD",
        "outputId": "ea120cec-f3f1-48e8-eb1a-84c8c2032e18"
      },
      "execution_count": null,
      "outputs": [
        {
          "output_type": "stream",
          "name": "stdout",
          "text": [
            "7 x 1 =7\n",
            "7 x 2 =14\n",
            "7 x 3 =21\n",
            "7 x 4 =28\n",
            "7 x 5 =35\n",
            "7 x 6 =42\n",
            "7 x 7 =49\n",
            "7 x 8 =56\n",
            "7 x 9 =63\n",
            "7 x 10 =70\n"
          ]
        }
      ]
    },
    {
      "cell_type": "code",
      "source": [
        "numeros2=list(range(1,11))\n",
        "numeros2"
      ],
      "metadata": {
        "colab": {
          "base_uri": "https://localhost:8080/"
        },
        "id": "4uP6EqcFhHEa",
        "outputId": "a7131eb4-5c34-46b3-bfaa-5ef48d29d21a"
      },
      "execution_count": null,
      "outputs": [
        {
          "output_type": "execute_result",
          "data": {
            "text/plain": [
              "[1, 2, 3, 4, 5, 6, 7, 8, 9, 10]"
            ]
          },
          "metadata": {},
          "execution_count": 45
        }
      ]
    },
    {
      "cell_type": "code",
      "source": [
        "for num in numeros2:\n",
        "  print(f\"{n} x {num} ={n*num}\")"
      ],
      "metadata": {
        "colab": {
          "base_uri": "https://localhost:8080/"
        },
        "id": "sTn2MdBwhLbi",
        "outputId": "26169cd8-1e28-4155-b38b-83efa78de80d"
      },
      "execution_count": null,
      "outputs": [
        {
          "output_type": "stream",
          "name": "stdout",
          "text": [
            "7 x 1 =7\n",
            "7 x 2 =14\n",
            "7 x 3 =21\n",
            "7 x 4 =28\n",
            "7 x 5 =35\n",
            "7 x 6 =42\n",
            "7 x 7 =49\n",
            "7 x 8 =56\n",
            "7 x 9 =63\n",
            "7 x 10 =70\n"
          ]
        }
      ]
    },
    {
      "cell_type": "markdown",
      "source": [
        "##Listas\n",
        "1. Es un tipo de datos\n",
        "2. Todos los elementos de una lista, **deben** separarse por comas\n",
        "3. Forma canónica para declarar una lista\n",
        "```\n",
        "(variable)=[]\n",
        "```\n",
        "Ejemplo:\n",
        "flores=[\"amapola\", \"tulipan\", \"lengua de suegra\", dahlia, rosa]\n"
      ],
      "metadata": {
        "id": "qUJWmlHfwzn8"
      }
    },
    {
      "cell_type": "code",
      "source": [
        "dahlia=3 #variable de tipo numérica, int\n",
        "rosa=\"cinco\"# variable de tipo alfanumérico, str\n",
        "flores=[\"amapola\", \"tulipan\", \"lengua de suegra\", dahlia, rosa]"
      ],
      "metadata": {
        "id": "CJj8y8i7xzsz"
      },
      "execution_count": null,
      "outputs": []
    },
    {
      "cell_type": "markdown",
      "source": [
        "4. Manual\n",
        "```\n",
        "Lista2=[dato1,dato2,dato3...datoN]\n",
        "```\n",
        "5. Siempre son finitas\n",
        "6. Son indexadas\n",
        "```\n",
        "Lista2=[dato1,dato2,dato3...datoN]\n",
        "```\n",
        "dato1 está en el index 0\n",
        "dato 2 está ubicado en el index 1\n",
        "\n",
        "7. Estructuras **para** para la creación de listas\n",
        "```\n",
        "#Ejemplo: crear una lista de 5 elementos\n",
        "lista=[] #para que el programa sepa que es una lista\n",
        "for loquesea in range(5):\n",
        "lista=input(\"Ingrese el nombre de una flor\")\n",
        "```\n",
        "\n"
      ],
      "metadata": {
        "id": "JqY9WmUky5ZC"
      }
    },
    {
      "cell_type": "code",
      "source": [
        "lista=[]\n",
        "for loquesea in range(5):\n",
        "  lista=input(\"Ingrese el nombre de una flor\")"
      ],
      "metadata": {
        "colab": {
          "base_uri": "https://localhost:8080/"
        },
        "id": "cHqHqQZd1UJw",
        "outputId": "84c1a0ac-4355-4bb9-e4a2-76fc81e7da2f"
      },
      "execution_count": 9,
      "outputs": [
        {
          "name": "stdout",
          "output_type": "stream",
          "text": [
            "Ingrese el nombre de una florbebe\n",
            "Ingrese el nombre de una florpapu\n",
            "Ingrese el nombre de una florcaca\n",
            "Ingrese el nombre de una floramogos\n",
            "Ingrese el nombre de una florlol\n"
          ]
        }
      ]
    },
    {
      "cell_type": "code",
      "source": [
        "lista=[]\n",
        "for loquesea in range(5):\n",
        "  lista.append(loquesea)"
      ],
      "metadata": {
        "id": "0onn_Udn5E7V"
      },
      "execution_count": 19,
      "outputs": []
    },
    {
      "cell_type": "code",
      "source": [
        "lista"
      ],
      "metadata": {
        "colab": {
          "base_uri": "https://localhost:8080/"
        },
        "id": "U_EJED_z5yx8",
        "outputId": "06136fbf-7733-44df-d65a-208853882ae6"
      },
      "execution_count": 4,
      "outputs": [
        {
          "output_type": "execute_result",
          "data": {
            "text/plain": [
              "[0, 1, 2, 3, 4]"
            ]
          },
          "metadata": {},
          "execution_count": 4
        }
      ]
    },
    {
      "cell_type": "code",
      "source": [
        "flores=[\"amapola\",\"rosa\",\"azuzena\",\"lengua de suegra\", \"dalia\"]"
      ],
      "metadata": {
        "id": "0l3Ot0uaCDSu"
      },
      "execution_count": 20,
      "outputs": []
    },
    {
      "cell_type": "code",
      "source": [
        "#Quiero saber quién está en la primera posición\n",
        "flores[0]"
      ],
      "metadata": {
        "colab": {
          "base_uri": "https://localhost:8080/",
          "height": 35
        },
        "id": "lobYp4tNCE2W",
        "outputId": "51106a9e-9b12-4773-e4d9-f931137fb757"
      },
      "execution_count": 21,
      "outputs": [
        {
          "output_type": "execute_result",
          "data": {
            "text/plain": [
              "'amapola'"
            ],
            "application/vnd.google.colaboratory.intrinsic+json": {
              "type": "string"
            }
          },
          "metadata": {},
          "execution_count": 21
        }
      ]
    },
    {
      "cell_type": "code",
      "source": [
        "flores[0]"
      ],
      "metadata": {
        "colab": {
          "base_uri": "https://localhost:8080/",
          "height": 35
        },
        "id": "ZLh0GJIQCdYe",
        "outputId": "d8bcdbd0-580b-403d-8fdf-165882cc144b"
      },
      "execution_count": 22,
      "outputs": [
        {
          "output_type": "execute_result",
          "data": {
            "text/plain": [
              "'amapola'"
            ],
            "application/vnd.google.colaboratory.intrinsic+json": {
              "type": "string"
            }
          },
          "metadata": {},
          "execution_count": 22
        }
      ]
    },
    {
      "cell_type": "code",
      "source": [
        "len(flores)"
      ],
      "metadata": {
        "colab": {
          "base_uri": "https://localhost:8080/"
        },
        "id": "MEIEiOOrCfGl",
        "outputId": "9e0b2658-a1ae-4693-b7fb-f4c0dae058a9"
      },
      "execution_count": 23,
      "outputs": [
        {
          "output_type": "execute_result",
          "data": {
            "text/plain": [
              "5"
            ]
          },
          "metadata": {},
          "execution_count": 23
        }
      ]
    },
    {
      "cell_type": "code",
      "source": [
        "flores[len(flores)-1]"
      ],
      "metadata": {
        "colab": {
          "base_uri": "https://localhost:8080/",
          "height": 35
        },
        "id": "nx7l6WSHChGN",
        "outputId": "15d5ddeb-3c52-442c-8efb-ad16c4b79f94"
      },
      "execution_count": 24,
      "outputs": [
        {
          "output_type": "execute_result",
          "data": {
            "text/plain": [
              "'dalia'"
            ],
            "application/vnd.google.colaboratory.intrinsic+json": {
              "type": "string"
            }
          },
          "metadata": {},
          "execution_count": 24
        }
      ]
    },
    {
      "cell_type": "code",
      "source": [
        "flores.index(\"lengua de suegra\")"
      ],
      "metadata": {
        "colab": {
          "base_uri": "https://localhost:8080/"
        },
        "id": "wZRS2GxQCmGF",
        "outputId": "8eae5ef6-4379-460f-a9a2-a8838c559207"
      },
      "execution_count": 25,
      "outputs": [
        {
          "output_type": "execute_result",
          "data": {
            "text/plain": [
              "3"
            ]
          },
          "metadata": {},
          "execution_count": 25
        }
      ]
    },
    {
      "cell_type": "code",
      "source": [
        "type(lista)"
      ],
      "metadata": {
        "colab": {
          "base_uri": "https://localhost:8080/"
        },
        "id": "o3qaxeixCptu",
        "outputId": "97acad4c-3742-43ce-d6cd-6b025c60087a"
      },
      "execution_count": 26,
      "outputs": [
        {
          "output_type": "execute_result",
          "data": {
            "text/plain": [
              "list"
            ]
          },
          "metadata": {},
          "execution_count": 26
        }
      ]
    },
    {
      "cell_type": "code",
      "source": [
        "for i in flores:\n",
        "  print(i)"
      ],
      "metadata": {
        "colab": {
          "base_uri": "https://localhost:8080/"
        },
        "id": "RY4Pa2WfCrAF",
        "outputId": "4fd22569-a163-483c-d46e-80d7dca5a618"
      },
      "execution_count": 27,
      "outputs": [
        {
          "output_type": "stream",
          "name": "stdout",
          "text": [
            "amapola\n",
            "rosa\n",
            "azuzena\n",
            "lengua de suegra\n",
            "dalia\n"
          ]
        }
      ]
    }
  ]
}