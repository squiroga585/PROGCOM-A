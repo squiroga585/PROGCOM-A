{
  "nbformat": 4,
  "nbformat_minor": 0,
  "metadata": {
    "colab": {
      "provenance": [],
      "authorship_tag": "ABX9TyNjmbWSbwLdOLeb0RpBOyWB",
      "include_colab_link": true
    },
    "kernelspec": {
      "name": "python3",
      "display_name": "Python 3"
    },
    "language_info": {
      "name": "python"
    }
  },
  "cells": [
    {
      "cell_type": "markdown",
      "metadata": {
        "id": "view-in-github",
        "colab_type": "text"
      },
      "source": [
        "<a href=\"https://colab.research.google.com/github/squiroga585/PROGCOM-A/blob/main/Quest_0_Prueba_diagn%C3%B3stica.ipynb\" target=\"_parent\"><img src=\"https://colab.research.google.com/assets/colab-badge.svg\" alt=\"Open In Colab\"/></a>"
      ]
    },
    {
      "cell_type": "markdown",
      "source": [
        "Prueba diagnóstica"
      ],
      "metadata": {
        "id": "5s8uoEP0L6HW"
      }
    },
    {
      "cell_type": "markdown",
      "source": [
        "##Estructuras de selección\n",
        "Aquí se desarrollarán ejercicios sobre estructuras de selección\n",
        "\n",
        "Parte 1: Estructuras de Decision (10 EJERCICIOS)"
      ],
      "metadata": {
        "id": "9kdNhT1aMAaW"
      }
    },
    {
      "cell_type": "code",
      "execution_count": null,
      "metadata": {
        "colab": {
          "base_uri": "https://localhost:8080/"
        },
        "id": "RvsZG3i2JneU",
        "outputId": "d5cbd84e-08ad-4ca0-ab25-54f08f43b92b"
      },
      "outputs": [
        {
          "output_type": "stream",
          "name": "stdout",
          "text": [
            "Introduce un número:2\n",
            "El número 2 es positivo.\n"
          ]
        }
      ],
      "source": [
        "#1 escribe un programa que reciba un número e indique si es positivo\n",
        "numero = input(\"Introduce un número:\")\n",
        "numero = int(numero) # Convert the input string to an integer\n",
        "if numero > 0:\n",
        "    print(f\"El número {numero} es positivo.\")\n",
        "else:\n",
        "    print(f\"El número {numero} no es positivo.\")"
      ]
    },
    {
      "cell_type": "code",
      "source": [
        "#2 escribe un programa que reciba una edad y determine si la persona es mayor de edad\n",
        "edad = input(\"Introduce tu edad:\")\n",
        "edad = int(edad) # Convert the input string to an integer\n",
        "if edad > 18:\n",
        "    print(\"Usted es mayor de edad.\")\n",
        "else:\n",
        "    print(\"Usted es menor de edad.\")"
      ],
      "metadata": {
        "id": "RNcQtnGoZW8i",
        "colab": {
          "base_uri": "https://localhost:8080/"
        },
        "outputId": "f1f8ff07-e22d-493f-8ed2-e8406e7a22a2"
      },
      "execution_count": null,
      "outputs": [
        {
          "output_type": "stream",
          "name": "stdout",
          "text": [
            "Introduce tu edad:2\n",
            "Usted es menor de edad.\n"
          ]
        }
      ]
    },
    {
      "cell_type": "code",
      "source": [
        "#Escribe un programa que reciba dos numeros e imprima el mayor\n",
        "numero1 = input(\"Escriba un numero:\")\n",
        "numero2 = input(\"Escriba otro numero:\")\n",
        "if numero1 > numero2:\n",
        " print(f\"El número {numero1} es el mayor.\")\n",
        "else:\n",
        " print(f\"El número {numero2} es el mayor.\")"
      ],
      "metadata": {
        "id": "RfbHw4IFZ-fi",
        "colab": {
          "base_uri": "https://localhost:8080/"
        },
        "outputId": "0a7a5f79-f744-4256-ee14-e04438bb1ac1"
      },
      "execution_count": null,
      "outputs": [
        {
          "output_type": "stream",
          "name": "stdout",
          "text": [
            "Escriba un numero:2\n",
            "Escriba otro numero:4\n",
            "El número 4 es el mayor.\n"
          ]
        }
      ]
    },
    {
      "cell_type": "code",
      "source": [
        "#Escribe un programa que reciba una calificacion (0-100) e indique si es Aprobado (>=60) o reprobado\n",
        "calificacion = input(\"Escriba la calificacion:\")\n",
        "calificacion = int(calificacion)\n",
        "\n",
        "if calificacion >= 60 and 100 >= calificacion >= 0  :\n",
        " print(\"Aprobo\")\n",
        "else:\n",
        " print(\"No aprobo\")"
      ],
      "metadata": {
        "id": "sgv8c-1pbSAY",
        "colab": {
          "base_uri": "https://localhost:8080/"
        },
        "outputId": "32439ab1-b510-4ed3-e38e-085cd463bcae"
      },
      "execution_count": null,
      "outputs": [
        {
          "output_type": "stream",
          "name": "stdout",
          "text": [
            "Escriba la calificacion59\n",
            "No aprobo\n"
          ]
        }
      ]
    },
    {
      "cell_type": "code",
      "source": [
        "# Escribe un programa que determine si un numero es par o impar\n",
        "numero=int(input(\"Escriba un numero\"))\n",
        "if numero % 2 == 0:\n",
        "  print(f\"{numero} es par\")\n",
        "else:\n",
        "  print(f\"{numero} nes impar\")"
      ],
      "metadata": {
        "id": "bKc3B5C2cLEX",
        "colab": {
          "base_uri": "https://localhost:8080/"
        },
        "outputId": "c9ea07ff-dc01-49cc-d9b9-087e18801d41"
      },
      "execution_count": null,
      "outputs": [
        {
          "output_type": "stream",
          "name": "stdout",
          "text": [
            "Escriba un numero3\n",
            "3 no es par\n"
          ]
        }
      ]
    },
    {
      "cell_type": "code",
      "source": [
        "#Escribe un programa que reciba tres números e imprima el mayor de los 3\n",
        "numero1 = int(input(\"Escriba un numero:\"))\n",
        "numero2 = int(input(\"Escriba otro numero:\"))\n",
        "numero3 = int(input(\"Escriba otro numero:\"))\n",
        "\n",
        "if numero1 >= numero2 and numero1 >= numero3:\n",
        " print(f\"El número {numero1} es el mayor.\")\n",
        "elif numero2 >= numero1 and numero2 >= numero3:\n",
        " print(f\"El número {numero2} es el mayor.\")\n",
        "else:\n",
        " print(f\"El número {numero3} es el mayor.\")"
      ],
      "metadata": {
        "colab": {
          "base_uri": "https://localhost:8080/"
        },
        "id": "eXM632j39Mu5",
        "outputId": "3916305a-dc78-4d9e-eb02-3852ed61f67a"
      },
      "execution_count": null,
      "outputs": [
        {
          "output_type": "stream",
          "name": "stdout",
          "text": [
            "Escriba un numero:2\n",
            "Escriba otro numero:2\n",
            "Escriba otro numero:4\n",
            "El número 4 es el mayor.\n"
          ]
        }
      ]
    },
    {
      "cell_type": "code",
      "source": [
        "# Escribe un programa que reciba un año e indique si es bisiesto\n",
        "año = int(input(\"Introduce un año:\"))\n",
        "\n",
        "if (año % 4 == 0 and año % 100 != 0) or (año % 400 == 0):\n",
        "    print(f\"El año {año} es bisiesto.\")\n",
        "else:\n",
        "    print(f\"El año {año} no es bisiesto.\")"
      ],
      "metadata": {
        "colab": {
          "base_uri": "https://localhost:8080/"
        },
        "id": "zhkAqgci-zjm",
        "outputId": "680e9e00-3803-41a2-e11a-605570031bb8"
      },
      "execution_count": null,
      "outputs": [
        {
          "output_type": "stream",
          "name": "stdout",
          "text": [
            "Introduce un año:2004\n",
            "El año 2004 es bisiesto.\n"
          ]
        }
      ]
    },
    {
      "cell_type": "code",
      "source": [
        "# Escribe un programa que reciba una contraseña e indique si cumple con las siguientes reglas: más de 8 caracteres, contiene al menos un número y una letra mayuscula\n",
        "contraseña = input(\"Introduce una contraseña: \")\n",
        "\n",
        "if len(contraseña) <= 8:\n",
        "    print(\"La contraseña no cumple con las reglas: debe tener más de 8 caracteres.\")\n",
        "elif not any(caracter.isdigit() for caracter in contraseña):\n",
        "    print(\"La contraseña no cumple con las reglas: debe contener al menos un número.\")\n",
        "elif not any(caracter.isupper() for caracter in contraseña):\n",
        "    print(\"La contraseña no cumple con las reglas: debe contener al menos una letra mayúscula.\")\n",
        "else:\n",
        "    print(\"La contraseña cumple con las reglas.\")"
      ],
      "metadata": {
        "colab": {
          "base_uri": "https://localhost:8080/"
        },
        "id": "zC1em2SJAqkb",
        "outputId": "8bfc66d0-74b1-49f1-fd6a-e2bdaaab7031"
      },
      "execution_count": null,
      "outputs": [
        {
          "output_type": "stream",
          "name": "stdout",
          "text": [
            "Introduce una contraseña: 2\n",
            "La contraseña no cumple con las reglas: debe tener más de 8 caracteres.\n"
          ]
        }
      ]
    },
    {
      "cell_type": "code",
      "source": [
        "# Escribe un programa que lea un número e imprima \"Fizz\" si es divisible por 3,\"Buzz\" si es divisible por 5 y \"FizzBuzz\" si es divisible por ambos\n",
        "numero = int(input(\"Introduce un número: \"))\n",
        "\n",
        "if numero % 3 == 0 and numero % 5 == 0:\n",
        "    print(\"FizzBuzz\")\n",
        "elif numero % 3 == 0:\n",
        "    print(\"Fizz\")\n",
        "elif numero % 5 == 0:\n",
        "    print(\"Buzz\")\n",
        "else:\n",
        "    print(\"El numero no es divisible por 3 o 5\")"
      ],
      "metadata": {
        "colab": {
          "base_uri": "https://localhost:8080/"
        },
        "id": "ikKluTe3BnOh",
        "outputId": "6d1becaf-3b75-4627-ffa1-ac92148da546"
      },
      "execution_count": null,
      "outputs": [
        {
          "output_type": "stream",
          "name": "stdout",
          "text": [
            "Introduce un número: 2\n",
            "El numero no es divisible por 3 o 5\n"
          ]
        }
      ]
    },
    {
      "cell_type": "code",
      "source": [
        "# Escribe un programa que simule un cajero automatico: recibe el monto a retirar e imprime si la operacion es posible en base al saldo disponible\n",
        "saldo_disponible = int(input(\"Escriba el saldo disponible:\"))\n",
        "monto_a_retirar = int(input(\"Ingrese el monto a retirar: \"))\n",
        "\n",
        "if monto_a_retirar > saldo_disponible:\n",
        "    print(\"Operación no posible. Saldo insuficiente.\")\n",
        "else:\n",
        "    print(\"Operación posible. Puede retirar su dinero.\")"
      ],
      "metadata": {
        "colab": {
          "base_uri": "https://localhost:8080/"
        },
        "id": "EoVLbO2sCT-z",
        "outputId": "e4181045-a976-497b-db97-b50dc72e5cdd"
      },
      "execution_count": null,
      "outputs": [
        {
          "output_type": "stream",
          "name": "stdout",
          "text": [
            "Escriba el saldo disponible:200\n",
            "Ingrese el monto a retirar: 10\n",
            "Operación posible. Puede retirar su dinero.\n"
          ]
        }
      ]
    },
    {
      "cell_type": "markdown",
      "source": [
        "ESTRUCTURAS DE REPETICION"
      ],
      "metadata": {
        "id": "4u3SJaOKcKkn"
      }
    },
    {
      "cell_type": "code",
      "source": [
        "#1 escribe un programa que reciba un número e indique si es positivo\n",
        "numeros = [5, -3, 0]\n",
        "\n",
        "for n in numeros:\n",
        "    if n > 0:\n",
        "        print(f\"{n} es positivo\")\n",
        "    else:\n",
        "        print(f\"{n} no es positivo\")"
      ],
      "metadata": {
        "id": "gjlHxtlt9W4K"
      },
      "execution_count": null,
      "outputs": []
    },
    {
      "cell_type": "code",
      "source": [
        "#2 escribe un programa que reciba una edad y determine si la persona es mayor de edad\n",
        "edades = [15, 20, 18]\n",
        "\n",
        "for edad in edades:\n",
        "    if edad >= 18:\n",
        "        print(f\"{edad} años → Mayor de edad\")\n",
        "    else:\n",
        "        print(f\"{edad} años → Menor de edad\")"
      ],
      "metadata": {
        "id": "6vWXjKkaFbeD"
      },
      "execution_count": null,
      "outputs": []
    },
    {
      "cell_type": "code",
      "source": [
        "#3\n",
        "pares = [(5, 9), (10, 3), (7, 7)]\n",
        "for a, b in pares:\n",
        "    mayor = a if a > b else b\n",
        "    print(f\"Entre {a} y {b} el mayor es {mayor}\")"
      ],
      "metadata": {
        "id": "ra6n9bnQFdxD"
      },
      "execution_count": null,
      "outputs": []
    },
    {
      "cell_type": "code",
      "source": [
        "#4\n",
        "calificaciones = [59, 60, 85, 40]\n",
        "\n",
        "for c in calificaciones:\n",
        "    if c >= 60:\n",
        "        print(f\"{c} → Aprobado\")\n",
        "    else:\n",
        "        print(f\"{c} → Reprobado\")"
      ],
      "metadata": {
        "id": "aRVY31XjFhW7"
      },
      "execution_count": null,
      "outputs": []
    },
    {
      "cell_type": "code",
      "source": [
        "#5\n",
        "numeros = [2, 7, 10, 13]\n",
        "\n",
        "for n in numeros:\n",
        "    if n % 2 == 0:\n",
        "        print(f\"{n} es par\")\n",
        "    else:\n",
        "        print(f\"{n} es impar\")"
      ],
      "metadata": {
        "id": "8xSFEQYqFi3K"
      },
      "execution_count": null,
      "outputs": []
    },
    {
      "cell_type": "code",
      "source": [
        "#6\n",
        "trios = [(5, 9, 3), (10, 20, 15), (7, 7, 7)]\n",
        "\n",
        "for a, b, c in trios:\n",
        "    mayor = max([a, b, c])\n",
        "    print(f\"Entre {a}, {b}, {c} el mayor es {mayor}\")"
      ],
      "metadata": {
        "id": "rdxPpYIrFkjr"
      },
      "execution_count": null,
      "outputs": []
    },
    {
      "cell_type": "code",
      "source": [
        "#7\n",
        "anios = [2020, 2021, 1900, 2000]\n",
        "\n",
        "for anio in anios:\n",
        "    if (anio % 4 == 0 and anio % 100 != 0) or (anio % 400 == 0):\n",
        "        print(f\"{anio} es bisiesto\")\n",
        "    else:\n",
        "        print(f\"{anio} no es bisiesto\")"
      ],
      "metadata": {
        "id": "EcaTnWA2FmhL"
      },
      "execution_count": null,
      "outputs": []
    },
    {
      "cell_type": "code",
      "source": [
        "#8\n",
        "contrasenas = [\"Hola123\", \"Password1\", \"ClaveSegura2025\", \"abc\"]\n",
        "\n",
        "for c in contrasenas:\n",
        "    if len(c) > 8 and any(ch.isdigit() for ch in c) and any(ch.isupper() for ch in c):\n",
        "        print(f\"{c} → Contraseña válida\")\n",
        "    else:\n",
        "        print(f\"{c} → Contraseña inválida\")"
      ],
      "metadata": {
        "id": "Vc-nVQpjFn57"
      },
      "execution_count": null,
      "outputs": []
    },
    {
      "cell_type": "code",
      "source": [
        "#9\n",
        "numeros = [3, 5, 15, 7]\n",
        "\n",
        "for n in numeros:\n",
        "    if n % 3 == 0 and n % 5 == 0:\n",
        "        print(\"FizzBuzz\")\n",
        "    elif n % 3 == 0:\n",
        "        print(\"Fizz\")\n",
        "    elif n % 5 == 0:\n",
        "        print(\"Buzz\")\n",
        "    else:\n",
        "        print(n)"
      ],
      "metadata": {
        "id": "2lc7yQ6fFqJ7"
      },
      "execution_count": null,
      "outputs": []
    },
    {
      "cell_type": "code",
      "source": [
        "#10\n",
        "saldo = 5000\n",
        "retiros = [1000, 6000, 2500]\n",
        "\n",
        "for monto in retiros:\n",
        "    if monto <= saldo:\n",
        "        saldo -= monto\n",
        "        print(f\"Retiro de {monto} exitoso. Saldo restante: {saldo}\")\n",
        "    else:\n",
        "        print(f\"No se puede retirar {monto}, saldo insuficiente ({saldo})\")"
      ],
      "metadata": {
        "id": "XUxZv9aMFslD"
      },
      "execution_count": null,
      "outputs": []
    }
  ]
}