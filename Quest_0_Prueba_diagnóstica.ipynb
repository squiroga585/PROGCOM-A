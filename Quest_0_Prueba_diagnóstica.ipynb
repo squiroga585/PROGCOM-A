{
  "nbformat": 4,
  "nbformat_minor": 0,
  "metadata": {
    "colab": {
      "provenance": []
    },
    "kernelspec": {
      "name": "python3",
      "display_name": "Python 3"
    },
    "language_info": {
      "name": "python"
    }
  },
  "cells": [
    {
      "cell_type": "markdown",
      "source": [
        "Prueba diagnóstica"
      ],
      "metadata": {
        "id": "5s8uoEP0L6HW"
      }
    },
    {
      "cell_type": "markdown",
      "source": [
        "##Estructuras de selección\n",
        "Aquí se desarrollarán ejercicios sobre estructuras de selección"
      ],
      "metadata": {
        "id": "9kdNhT1aMAaW"
      }
    },
    {
      "cell_type": "code",
      "execution_count": null,
      "metadata": {
        "id": "RvsZG3i2JneU"
      },
      "outputs": [],
      "source": []
    }
  ]
}