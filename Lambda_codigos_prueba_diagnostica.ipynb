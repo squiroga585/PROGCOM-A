{
  "nbformat": 4,
  "nbformat_minor": 0,
  "metadata": {
    "colab": {
      "provenance": [],
      "authorship_tag": "ABX9TyOFfYWdYurJrJDnej/cHXlH",
      "include_colab_link": true
    },
    "kernelspec": {
      "name": "python3",
      "display_name": "Python 3"
    },
    "language_info": {
      "name": "python"
    }
  },
  "cells": [
    {
      "cell_type": "markdown",
      "metadata": {
        "id": "view-in-github",
        "colab_type": "text"
      },
      "source": [
        "<a href=\"https://colab.research.google.com/github/squiroga585/PROGCOM-A/blob/main/Lambda_codigos_prueba_diagnostica.ipynb\" target=\"_parent\"><img src=\"https://colab.research.google.com/assets/colab-badge.svg\" alt=\"Open In Colab\"/></a>"
      ]
    },
    {
      "cell_type": "code",
      "execution_count": null,
      "metadata": {
        "id": "-1tLYed-uFpB"
      },
      "outputs": [],
      "source": [
        "cuadrado = lambda x: x**2"
      ]
    },
    {
      "cell_type": "code",
      "source": [
        "saludos = [\n",
        "    \"¡Hola\", \"Saludos\", \"Qué tal\", \"Buen día\", \"Hey\", \"Hola hola\", \"Bienvenido\",\n",
        "    \"Qué gusto verte\", \"Un placer\", \"Saludos cordiales\", \"Qué onda\", \"Hola crack\",\n",
        "    \"Hola campeón\", \"Hola genio\", \"Hola máquina\", \"Hola fenómeno\", \"Qué alegría verte\",\n",
        "    \"Encantado\", \"Hola figura\", \"Hola artista\"\n",
        "]\n",
        "saludo_personalizado = lambda nombre: f\"{random.choice(saludos)} {nombre}!\""
      ],
      "metadata": {
        "id": "prnITgHKF-FV"
      },
      "execution_count": null,
      "outputs": []
    },
    {
      "cell_type": "code",
      "source": [
        "operaciones = lambda a, b: (a+b, a-b, a*b, a/b if b!=0 else \"División indefinida\")"
      ],
      "metadata": {
        "id": "B4qkJgmkGC0f"
      },
      "execution_count": null,
      "outputs": []
    },
    {
      "cell_type": "code",
      "source": [
        "es_mayor = lambda edad: \"Mayor de edad\" if edad >= 18 else \"Menor de edad\""
      ],
      "metadata": {
        "id": "89VvAlYLGFfz"
      },
      "execution_count": null,
      "outputs": []
    },
    {
      "cell_type": "code",
      "source": [
        "es_palindromo = lambda palabra: palabra.lower() == palabra.lower()[::-1]"
      ],
      "metadata": {
        "id": "AbiUkow0GHQ4"
      },
      "execution_count": null,
      "outputs": []
    },
    {
      "cell_type": "code",
      "source": [
        "contar_vocales = lambda texto: sum(1 for c in texto.lower() if c in \"aeiou\")"
      ],
      "metadata": {
        "id": "OHrs0auJGJNs"
      },
      "execution_count": null,
      "outputs": []
    },
    {
      "cell_type": "code",
      "source": [
        "suma_lista = lambda lista: sum(lista)"
      ],
      "metadata": {
        "id": "MdQ4d69SGLSL"
      },
      "execution_count": null,
      "outputs": []
    },
    {
      "cell_type": "code",
      "source": [
        "mayor_menor = lambda lista: (max(lista), min(lista))"
      ],
      "metadata": {
        "id": "J72nRf1EGNAl"
      },
      "execution_count": null,
      "outputs": []
    },
    {
      "cell_type": "code",
      "source": [
        "invertir_lista = lambda lista: lista[::-1]"
      ],
      "metadata": {
        "id": "MDZz-0sJGOiU"
      },
      "execution_count": null,
      "outputs": []
    },
    {
      "cell_type": "code",
      "source": [
        "nombres_vocal = lambda lista: sum(1 for n in lista if n[0].lower() in \"aeiou\")"
      ],
      "metadata": {
        "id": "YyIvE3SeGUKx"
      },
      "execution_count": null,
      "outputs": []
    },
    {
      "cell_type": "code",
      "source": [
        "sin_repetidos = lambda lista: list(dict.fromkeys(lista))"
      ],
      "metadata": {
        "id": "Rpef_xSXGS0N"
      },
      "execution_count": null,
      "outputs": []
    },
    {
      "cell_type": "code",
      "source": [
        "es_primo = lambda n: n > 1 and all(n % i != 0 for i in range(2, int(n**0.5)+1))\n",
        "filtrar_primos = lambda lista: [n for n in lista if es_primo(n)]"
      ],
      "metadata": {
        "id": "eHns053hGuK6"
      },
      "execution_count": null,
      "outputs": []
    },
    {
      "cell_type": "code",
      "source": [
        "mensaje_datos = lambda dic: f\"Nombre: {dic['nombre']}, Edad: {dic['edad']}\""
      ],
      "metadata": {
        "id": "EBRtOWbRGw_V"
      },
      "execution_count": null,
      "outputs": []
    },
    {
      "cell_type": "code",
      "source": [
        "total_productos = lambda dic: sum(dic.values())"
      ],
      "metadata": {
        "id": "BnJYUJC3Gywl"
      },
      "execution_count": null,
      "outputs": []
    },
    {
      "cell_type": "code",
      "source": [
        "promedio_notas = lambda dic: sum(dic.values())/len(dic) if dic else 0"
      ],
      "metadata": {
        "id": "ptR4NrmQG3aW"
      },
      "execution_count": null,
      "outputs": []
    },
    {
      "cell_type": "code",
      "source": [
        "buscar_nota = lambda dic, nombre: dic.get(nombre, \"no encontrado\")"
      ],
      "metadata": {
        "id": "l7C0xflEG5Kc"
      },
      "execution_count": null,
      "outputs": []
    },
    {
      "cell_type": "code",
      "source": [
        "mayor_nota = lambda dic: max(dic, key=dic.get) if dic else None"
      ],
      "metadata": {
        "id": "1APamwJdG6-k"
      },
      "execution_count": null,
      "outputs": []
    },
    {
      "cell_type": "code",
      "source": [
        "productos_caros = lambda dic, valor: {k:v for k,v in dic.items() if v > valor}"
      ],
      "metadata": {
        "id": "QuQSsA-EG8wK"
      },
      "execution_count": null,
      "outputs": []
    },
    {
      "cell_type": "code",
      "source": [
        "horas_empleados = lambda dic: {k: sum(v) for k,v in dic.items()}\n"
      ],
      "metadata": {
        "id": "0uyXMozDG-oG"
      },
      "execution_count": null,
      "outputs": []
    }
  ]
}