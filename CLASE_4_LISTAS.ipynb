{
  "nbformat": 4,
  "nbformat_minor": 0,
  "metadata": {
    "colab": {
      "provenance": [],
      "authorship_tag": "ABX9TyP0uJWzrSEMVNtBBPohQc9E",
      "include_colab_link": true
    },
    "kernelspec": {
      "name": "python3",
      "display_name": "Python 3"
    },
    "language_info": {
      "name": "python"
    }
  },
  "cells": [
    {
      "cell_type": "markdown",
      "metadata": {
        "id": "view-in-github",
        "colab_type": "text"
      },
      "source": [
        "<a href=\"https://colab.research.google.com/github/squiroga585/PROGCOM-A/blob/main/CLASE_4_LISTAS.ipynb\" target=\"_parent\"><img src=\"https://colab.research.google.com/assets/colab-badge.svg\" alt=\"Open In Colab\"/></a>"
      ]
    },
    {
      "cell_type": "markdown",
      "source": [
        "#LISTAS\n",
        "1. Conjunto de datos\n",
        "2. Es mutable (5000xp)\n",
        "3. Tienen indexación"
      ],
      "metadata": {
        "id": "uro3L33oCHNa"
      }
    },
    {
      "cell_type": "code",
      "source": [
        "lista=[\"maría\", 4, True, \"hola\"]\n",
        "lista[0]"
      ],
      "metadata": {
        "colab": {
          "base_uri": "https://localhost:8080/",
          "height": 35
        },
        "id": "DeZePeMiCxHD",
        "outputId": "de37379a-40b9-4ba2-b35c-32ba4de8314b"
      },
      "execution_count": 16,
      "outputs": [
        {
          "output_type": "execute_result",
          "data": {
            "text/plain": [
              "'maría'"
            ],
            "application/vnd.google.colaboratory.intrinsic+json": {
              "type": "string"
            }
          },
          "metadata": {},
          "execution_count": 16
        }
      ]
    },
    {
      "cell_type": "markdown",
      "source": [
        "4. Son ordenadas\n",
        "\n",
        "Forma genérica\n",
        "\n",
        "```\n",
        "nombre_de_la_lista=[e1, e2, e3, e4...en]\n",
        "```\n",
        "\n",
        "\n",
        "\n",
        "\n",
        "\n",
        "\n",
        "\n"
      ],
      "metadata": {
        "id": "9_jtsYWPDFaq"
      }
    },
    {
      "cell_type": "code",
      "source": [
        "lista[5]"
      ],
      "metadata": {
        "colab": {
          "base_uri": "https://localhost:8080/",
          "height": 141
        },
        "id": "mK8RCQgUD-yB",
        "outputId": "cee0abb8-3944-4594-e110-09cd49f2415e"
      },
      "execution_count": 17,
      "outputs": [
        {
          "output_type": "error",
          "ename": "IndexError",
          "evalue": "list index out of range",
          "traceback": [
            "\u001b[0;31m---------------------------------------------------------------------------\u001b[0m",
            "\u001b[0;31mIndexError\u001b[0m                                Traceback (most recent call last)",
            "\u001b[0;32m/tmp/ipython-input-2920324198.py\u001b[0m in \u001b[0;36m<cell line: 0>\u001b[0;34m()\u001b[0m\n\u001b[0;32m----> 1\u001b[0;31m \u001b[0mlista\u001b[0m\u001b[0;34m[\u001b[0m\u001b[0;36m5\u001b[0m\u001b[0;34m]\u001b[0m\u001b[0;34m\u001b[0m\u001b[0;34m\u001b[0m\u001b[0m\n\u001b[0m",
            "\u001b[0;31mIndexError\u001b[0m: list index out of range"
          ]
        }
      ]
    },
    {
      "cell_type": "code",
      "source": [
        "#Obteniendi el último elemento de la lista\n",
        "lista[len(lista)-1]"
      ],
      "metadata": {
        "colab": {
          "base_uri": "https://localhost:8080/",
          "height": 35
        },
        "id": "ceDNcSqSEBso",
        "outputId": "5c462b2b-205f-4615-b4c8-7bf992b8388f"
      },
      "execution_count": 18,
      "outputs": [
        {
          "output_type": "execute_result",
          "data": {
            "text/plain": [
              "'hola'"
            ],
            "application/vnd.google.colaboratory.intrinsic+json": {
              "type": "string"
            }
          },
          "metadata": {},
          "execution_count": 18
        }
      ]
    },
    {
      "cell_type": "code",
      "source": [
        "lista[-1]"
      ],
      "metadata": {
        "colab": {
          "base_uri": "https://localhost:8080/",
          "height": 35
        },
        "id": "2u8FMqQVFUJQ",
        "outputId": "5a1d0bc4-fede-412e-daf7-93505d06418d"
      },
      "execution_count": 19,
      "outputs": [
        {
          "output_type": "execute_result",
          "data": {
            "text/plain": [
              "'hola'"
            ],
            "application/vnd.google.colaboratory.intrinsic+json": {
              "type": "string"
            }
          },
          "metadata": {},
          "execution_count": 19
        }
      ]
    },
    {
      "cell_type": "code",
      "source": [
        "lista[:2]"
      ],
      "metadata": {
        "colab": {
          "base_uri": "https://localhost:8080/"
        },
        "id": "-Tz2an7_FV67",
        "outputId": "0135d62b-3fb4-40e4-83a6-aed2de4845f9"
      },
      "execution_count": 20,
      "outputs": [
        {
          "output_type": "execute_result",
          "data": {
            "text/plain": [
              "['maría', 4]"
            ]
          },
          "metadata": {},
          "execution_count": 20
        }
      ]
    },
    {
      "cell_type": "code",
      "source": [
        "lista[0:]"
      ],
      "metadata": {
        "colab": {
          "base_uri": "https://localhost:8080/"
        },
        "id": "5ABSkgkFFYa5",
        "outputId": "5a0dc89b-a6a6-4f61-c90c-fc78c3d7b89f"
      },
      "execution_count": 21,
      "outputs": [
        {
          "output_type": "execute_result",
          "data": {
            "text/plain": [
              "['maría', 4, True, 'hola']"
            ]
          },
          "metadata": {},
          "execution_count": 21
        }
      ]
    },
    {
      "cell_type": "code",
      "source": [
        "lista[-1:]"
      ],
      "metadata": {
        "colab": {
          "base_uri": "https://localhost:8080/"
        },
        "id": "ZkYAvS6bFruB",
        "outputId": "a3f429cd-f5f2-48c9-a785-cd3c5d0de90b"
      },
      "execution_count": 22,
      "outputs": [
        {
          "output_type": "execute_result",
          "data": {
            "text/plain": [
              "['hola']"
            ]
          },
          "metadata": {},
          "execution_count": 22
        }
      ]
    },
    {
      "cell_type": "code",
      "source": [
        "lista[1:4]"
      ],
      "metadata": {
        "colab": {
          "base_uri": "https://localhost:8080/"
        },
        "id": "-X87j2zkF5Uo",
        "outputId": "d20c7cc6-46f8-4911-b0f9-9d39f4dede19"
      },
      "execution_count": 23,
      "outputs": [
        {
          "output_type": "execute_result",
          "data": {
            "text/plain": [
              "[4, True, 'hola']"
            ]
          },
          "metadata": {},
          "execution_count": 23
        }
      ]
    },
    {
      "cell_type": "code",
      "source": [
        "for i in range(5):"
      ],
      "metadata": {
        "id": "JGAb4t6eGNwu"
      },
      "execution_count": null,
      "outputs": []
    },
    {
      "cell_type": "code",
      "source": [
        "for i in lista:\n",
        "  #Va a iterar 4 veces\n",
        "  #i va a tomar por vez el elemento de la lista\n",
        "  print(i)"
      ],
      "metadata": {
        "id": "MMifB4dFGRQf"
      },
      "execution_count": null,
      "outputs": []
    },
    {
      "cell_type": "code",
      "source": [
        "#Lista por extensión:\n",
        "num=[1,2,3,4,5,6,7,8,9,10]\n",
        "#Lista por comprension\n",
        "num2=list(range(1,11))\n",
        "print(num2)"
      ],
      "metadata": {
        "id": "7FnoStUOHAMW"
      },
      "execution_count": null,
      "outputs": []
    },
    {
      "cell_type": "markdown",
      "source": [
        "##Lisas por comprensión\n",
        "Forma nueva de generar listas a partir de una expresión\n",
        "sintaxis:\n",
        "```\n",
        "nombre_lista=[expresion for item in iterable if condición]\n",
        "```\n",
        "Donde:\n",
        "1. expresión es el vallor que generará la nueva lista\n",
        "2. Item: variable que representa cada elemento dentro de la iteración\n",
        "3. iterable: Cuántops elementos va a tener la nueva lista\n",
        "4. Condicion: es opcional y se emplea si los elemento deben cumplir algo\n"
      ],
      "metadata": {
        "id": "940QMq_JHbHN"
      }
    },
    {
      "cell_type": "code",
      "source": [
        "#Convertir una lista de oraciones en una lista de palabras\n",
        "oraciones=[\"Aquí va una oración\",\"Aquí va otra oración\",\"Aquí va la tercera\"]\n",
        "palabras=[i.split() for i in oraciones]\n",
        "palabras"
      ],
      "metadata": {
        "colab": {
          "base_uri": "https://localhost:8080/"
        },
        "id": "lWsMiA9_IxvM",
        "outputId": "74ea4f14-d192-4e15-e850-37416d8c30fb"
      },
      "execution_count": 24,
      "outputs": [
        {
          "output_type": "execute_result",
          "data": {
            "text/plain": [
              "[['Aquí', 'va', 'una', 'oración'],\n",
              " ['Aquí', 'va', 'otra', 'oración'],\n",
              " ['Aquí', 'va', 'la', 'tercera']]"
            ]
          },
          "metadata": {},
          "execution_count": 24
        }
      ]
    },
    {
      "cell_type": "code",
      "source": [
        "#Lista con los pares de num2\n",
        "pares=[num for num in num2 if num%2==0]\n",
        "pares"
      ],
      "metadata": {
        "id": "W8SLbipkJe5f"
      },
      "execution_count": null,
      "outputs": []
    },
    {
      "cell_type": "code",
      "source": [
        "#Clasidicar si un número es positivo o negativo\n",
        "numeros=[1, 4, 6, -20, -2, -69, 4]\n",
        "lista2=[(n,\"positivo\") if n>0 else (n,\"negativo\") for n in numeros]\n",
        "lista2"
      ],
      "metadata": {
        "id": "rl2VGy9uLTnq"
      },
      "execution_count": null,
      "outputs": []
    },
    {
      "cell_type": "code",
      "metadata": {
        "colab": {
          "base_uri": "https://localhost:8080/"
        },
        "id": "fbbb2127",
        "outputId": "c0881129-b8f0-475b-efd0-f847069e22c8"
      },
      "source": [
        "temperaturas = []\n",
        "for i in range(10):\n",
        "  temperatura = input(f\"Digitar temperatura {i+1}: \")\n",
        "  temperaturas.append(float(temperatura))\n",
        "\n",
        "\n",
        "clasificaciones = [(temp, \"frío\") if temp < 20 else (temp, \"templado\") if 20 <= temp <= 27 else (temp, \"caliente\") for temp in temperaturas]\n",
        "\n",
        "print(\"\\nClasificacion de temperaturas:\")\n",
        "for temp, clasificacion in clasificaciones:\n",
        "  print(f\"{temp}°C: {clasificacion}\")"
      ],
      "execution_count": 34,
      "outputs": [
        {
          "output_type": "stream",
          "name": "stdout",
          "text": [
            "Digitar temperatura 1: 3\n",
            "Digitar temperatura 2: 4\n",
            "Digitar temperatura 3: 5\n",
            "Digitar temperatura 4: 4\n",
            "Digitar temperatura 5: 4\n",
            "Digitar temperatura 6: 4\n",
            "Digitar temperatura 7: 4\n",
            "Digitar temperatura 8: 4\n",
            "Digitar temperatura 9: 4\n",
            "Digitar temperatura 10: 4\n",
            "\n",
            "Clasificacion de temperaturas:\n",
            "3.0°C: frío\n",
            "4.0°C: frío\n",
            "5.0°C: frío\n",
            "4.0°C: frío\n",
            "4.0°C: frío\n",
            "4.0°C: frío\n",
            "4.0°C: frío\n",
            "4.0°C: frío\n",
            "4.0°C: frío\n",
            "4.0°C: frío\n"
          ]
        }
      ]
    },
    {
      "cell_type": "code",
      "source": [
        "#Quiero obtener la inicil de nombres y ponerlo en mayuscula\n",
        "nombres=[\"camilo\",\"anderson\",\"joan\"]\n",
        "lista3=[x[0].upper() for x in nombres]\n",
        "lista3"
      ],
      "metadata": {
        "colab": {
          "base_uri": "https://localhost:8080/"
        },
        "id": "kvaTIb9fP7PT",
        "outputId": "8fb6ca77-69ef-4827-f6cc-60373e4f38b2"
      },
      "execution_count": 35,
      "outputs": [
        {
          "output_type": "execute_result",
          "data": {
            "text/plain": [
              "['C', 'A', 'J']"
            ]
          },
          "metadata": {},
          "execution_count": 35
        }
      ]
    }
  ]
}