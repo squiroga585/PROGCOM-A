{
  "cells": [
    {
      "cell_type": "markdown",
      "metadata": {
        "id": "view-in-github",
        "colab_type": "text"
      },
      "source": [
        "<a href=\"https://colab.research.google.com/github/squiroga585/PROGCOM-A/blob/main/CQ7.ipynb\" target=\"_parent\"><img src=\"https://colab.research.google.com/assets/colab-badge.svg\" alt=\"Open In Colab\"/></a>"
      ]
    },
    {
      "cell_type": "markdown",
      "metadata": {
        "id": "MjKkLjjutXxJ"
      },
      "source": [
        "False: Representa el valor falso"
      ]
    },
    {
      "cell_type": "code",
      "execution_count": null,
      "metadata": {
        "colab": {
          "base_uri": "https://localhost:8080/"
        },
        "id": "0CbwbBkltP4F",
        "outputId": "a284a760-2fac-4fda-babe-dd22260d47c2"
      },
      "outputs": [
        {
          "name": "stdout",
          "output_type": "stream",
          "text": [
            "False\n"
          ]
        }
      ],
      "source": [
        "x = False; print(x)"
      ]
    },
    {
      "cell_type": "markdown",
      "metadata": {
        "id": "TBPzc0v2tYJI"
      },
      "source": [
        "None: Representa la ausencia de un valor"
      ]
    },
    {
      "cell_type": "code",
      "execution_count": null,
      "metadata": {
        "colab": {
          "base_uri": "https://localhost:8080/"
        },
        "id": "H1EOVcu-tXUw",
        "outputId": "b04e27c3-7bbb-4958-bce3-8c5ac7a14860"
      },
      "outputs": [
        {
          "name": "stdout",
          "output_type": "stream",
          "text": [
            "None\n"
          ]
        }
      ],
      "source": [
        " x = None; print(x)"
      ]
    },
    {
      "cell_type": "markdown",
      "metadata": {
        "id": "-ugxj-5NuDx3"
      },
      "source": [
        "True: Representa el valor verdadero"
      ]
    },
    {
      "cell_type": "code",
      "execution_count": null,
      "metadata": {
        "colab": {
          "base_uri": "https://localhost:8080/"
        },
        "id": "JCQlIYr6uEG_",
        "outputId": "62d36f4c-c32c-4b82-fc8e-887b0d745c24"
      },
      "outputs": [
        {
          "name": "stdout",
          "output_type": "stream",
          "text": [
            "True\n"
          ]
        }
      ],
      "source": [
        "x = True; print(x)"
      ]
    },
    {
      "cell_type": "markdown",
      "metadata": {
        "id": "3oQ8EHaEuUXo"
      },
      "source": [
        "and: Operador lógico que devuelve True si ambos operandos son True"
      ]
    },
    {
      "cell_type": "code",
      "execution_count": null,
      "metadata": {
        "colab": {
          "base_uri": "https://localhost:8080/"
        },
        "id": "DR2u3FjUuUw4",
        "outputId": "368ef5b1-c0e3-48d7-da35-a378a9ae6d14"
      },
      "outputs": [
        {
          "name": "stdout",
          "output_type": "stream",
          "text": [
            "False\n"
          ]
        }
      ],
      "source": [
        "print(True and False)"
      ]
    },
    {
      "cell_type": "markdown",
      "metadata": {
        "id": "2M-vUNlrvG75"
      },
      "source": [
        "as: Usado para crear un alias al importar módulos"
      ]
    },
    {
      "cell_type": "code",
      "execution_count": null,
      "metadata": {
        "colab": {
          "base_uri": "https://localhost:8080/"
        },
        "id": "gbezgQDSvHNh",
        "outputId": "e50aa433-9c68-4970-ae56-4734f55a0a19"
      },
      "outputs": [
        {
          "name": "stdout",
          "output_type": "stream",
          "text": [
            "3.141592653589793\n"
          ]
        }
      ],
      "source": [
        "import math as m; print(m.pi)"
      ]
    },
    {
      "cell_type": "markdown",
      "metadata": {
        "id": "OfKv631CvwAt"
      },
      "source": [
        "assert: Verifica si una condición es verdadera, lanza error si no lo es"
      ]
    },
    {
      "cell_type": "code",
      "execution_count": null,
      "metadata": {
        "id": "qjI_S8REvwOu"
      },
      "outputs": [],
      "source": [
        "assert 1 == 1"
      ]
    },
    {
      "cell_type": "code",
      "execution_count": null,
      "metadata": {
        "colab": {
          "base_uri": "https://localhost:8080/",
          "height": 141
        },
        "id": "_21-Xw__v3AW",
        "outputId": "8183a43e-4baf-4c18-94f6-f870c596f5e0"
      },
      "outputs": [
        {
          "ename": "AssertionError",
          "evalue": "",
          "output_type": "error",
          "traceback": [
            "\u001b[0;31m---------------------------------------------------------------------------\u001b[0m",
            "\u001b[0;31mAssertionError\u001b[0m                            Traceback (most recent call last)",
            "\u001b[0;32m/tmp/ipython-input-3017664728.py\u001b[0m in \u001b[0;36m<cell line: 0>\u001b[0;34m()\u001b[0m\n\u001b[0;32m----> 1\u001b[0;31m \u001b[0;32massert\u001b[0m \u001b[0;36m1\u001b[0m \u001b[0;34m==\u001b[0m \u001b[0;36m2\u001b[0m\u001b[0;34m\u001b[0m\u001b[0;34m\u001b[0m\u001b[0m\n\u001b[0m",
            "\u001b[0;31mAssertionError\u001b[0m: "
          ]
        }
      ],
      "source": [
        "assert 1 == 2"
      ]
    },
    {
      "cell_type": "markdown",
      "metadata": {
        "id": "MGeODXJJw-KQ"
      },
      "source": [
        "break: Sale de un bucle inmediatamente."
      ]
    },
    {
      "cell_type": "code",
      "execution_count": null,
      "metadata": {
        "colab": {
          "base_uri": "https://localhost:8080/"
        },
        "id": "mTGGvUEOxBgw",
        "outputId": "c475941d-9c3e-4b96-ac4b-4df49d390d15"
      },
      "outputs": [
        {
          "name": "stdout",
          "output_type": "stream",
          "text": [
            "0\n",
            "1\n"
          ]
        }
      ],
      "source": [
        "for i in range(5):\n",
        "  if i == 2: break;\n",
        "  print(i)"
      ]
    },
    {
      "cell_type": "markdown",
      "metadata": {
        "id": "ntCKWXQ9yjQY"
      },
      "source": [
        "class: Define una clase (estructura de objeto)"
      ]
    },
    {
      "cell_type": "code",
      "execution_count": null,
      "metadata": {
        "id": "CxyZ_cvByjis"
      },
      "outputs": [],
      "source": [
        "class MiClase: pass"
      ]
    },
    {
      "cell_type": "markdown",
      "metadata": {
        "id": "bHTd1ffsyv6u"
      },
      "source": [
        "continue: Salta a la siguiente iteración de un bucle."
      ]
    },
    {
      "cell_type": "code",
      "execution_count": null,
      "metadata": {
        "colab": {
          "base_uri": "https://localhost:8080/"
        },
        "id": "LTAVREYVywNu",
        "outputId": "04864429-cff6-4350-eab0-9f40441d8a93"
      },
      "outputs": [
        {
          "name": "stdout",
          "output_type": "stream",
          "text": [
            "0\n",
            "1\n",
            "3\n",
            "4\n"
          ]
        }
      ],
      "source": [
        "for i in range(5):\n",
        "   if i == 2: continue;\n",
        "   print(i)"
      ]
    },
    {
      "cell_type": "code",
      "execution_count": null,
      "metadata": {
        "id": "p3zOVPAJ4I5v"
      },
      "outputs": [],
      "source": []
    },
    {
      "cell_type": "markdown",
      "metadata": {
        "id": "B7eSXDFezdSW"
      },
      "source": [
        "def: Define una función"
      ]
    },
    {
      "cell_type": "code",
      "execution_count": null,
      "metadata": {
        "id": "dSGQgY7XzdlU"
      },
      "outputs": [],
      "source": [
        "def suma(a, b): return a + b"
      ]
    },
    {
      "cell_type": "markdown",
      "metadata": {
        "id": "OLg655K8z18j"
      },
      "source": [
        "del: Elimina un objeto o variable"
      ]
    },
    {
      "cell_type": "code",
      "execution_count": null,
      "metadata": {
        "colab": {
          "base_uri": "https://localhost:8080/"
        },
        "id": "CkoaiSPvz2Pn",
        "outputId": "c849f760-ccc8-460d-8532-759445cf907c"
      },
      "outputs": [
        {
          "name": "stdout",
          "output_type": "stream",
          "text": [
            "10\n"
          ]
        }
      ],
      "source": [
        "x = 10\n",
        "print(x)\n",
        "del x"
      ]
    },
    {
      "cell_type": "markdown",
      "metadata": {
        "id": "mBuZoP2f0WMo"
      },
      "source": [
        "elif: Condición alternativa en una estructura if"
      ]
    },
    {
      "cell_type": "code",
      "execution_count": null,
      "metadata": {
        "colab": {
          "base_uri": "https://localhost:8080/"
        },
        "id": "UuJOzg7a0Ws1",
        "outputId": "80c268f7-6612-4607-80c8-80da0d94b298"
      },
      "outputs": [
        {
          "name": "stdout",
          "output_type": "stream",
          "text": [
            "Adolescente\n"
          ]
        }
      ],
      "source": [
        "edad = 15\n",
        "\n",
        "if edad < 12:\n",
        "    print(\"Niño\")\n",
        "elif edad < 18:\n",
        "    print(\"Adolescente\")\n",
        "else:\n",
        "    print(\"Adulto\")"
      ]
    },
    {
      "cell_type": "markdown",
      "metadata": {
        "id": "M9Hag13y1Ag6"
      },
      "source": [
        "else: Bloque de código ejecutado si ninguna condición previa es verdadera"
      ]
    },
    {
      "cell_type": "code",
      "execution_count": null,
      "metadata": {
        "colab": {
          "base_uri": "https://localhost:8080/"
        },
        "id": "VFLf6nKm1Azq",
        "outputId": "6a0bbc33-b314-4ca5-ed2f-eef794cdb711"
      },
      "outputs": [
        {
          "name": "stdout",
          "output_type": "stream",
          "text": [
            "Mayor de edad\n"
          ]
        }
      ],
      "source": [
        "edad = 20\n",
        "\n",
        "if edad >= 18:\n",
        "    print(\"Mayor de edad\")\n",
        "else:\n",
        "    print(\"Menor de edad\")"
      ]
    },
    {
      "cell_type": "markdown",
      "metadata": {
        "id": "FY1fmYeI1ZIU"
      },
      "source": [
        "except: maneja excepciones en un bloque"
      ]
    },
    {
      "cell_type": "code",
      "execution_count": null,
      "metadata": {
        "colab": {
          "base_uri": "https://localhost:8080/"
        },
        "id": "-yn5LsyP1ZZM",
        "outputId": "44d7fcd3-2c36-4883-9f79-65012f01ec62"
      },
      "outputs": [
        {
          "name": "stdout",
          "output_type": "stream",
          "text": [
            "Error detectado\n"
          ]
        }
      ],
      "source": [
        "try:\n",
        "    1/0\n",
        "except:\n",
        "    print(\"Error detectado\")\n"
      ]
    },
    {
      "cell_type": "markdown",
      "metadata": {
        "id": "HAnf7Uts1lc-"
      },
      "source": [
        "finally: código que se ejecuta siempre, con o sin excepción"
      ]
    },
    {
      "cell_type": "code",
      "execution_count": null,
      "metadata": {
        "colab": {
          "base_uri": "https://localhost:8080/"
        },
        "id": "spdNzlze1lr8",
        "outputId": "314442ff-7407-49ee-a63c-9e2de107aade"
      },
      "outputs": [
        {
          "name": "stdout",
          "output_type": "stream",
          "text": [
            "Error\n",
            "Fin del programa\n"
          ]
        }
      ],
      "source": [
        "try:\n",
        "    x = 1/0\n",
        "except:\n",
        "    print(\"Error\")\n",
        "finally:\n",
        "    print(\"Fin del programa\")"
      ]
    },
    {
      "cell_type": "markdown",
      "metadata": {
        "id": "3Mobfe8R2F1r"
      },
      "source": [
        "for: Bucle para recorrer elementos"
      ]
    },
    {
      "cell_type": "code",
      "execution_count": null,
      "metadata": {
        "colab": {
          "base_uri": "https://localhost:8080/"
        },
        "id": "XSSeL6tH2GK0",
        "outputId": "eb12f8b6-92af-48e7-b8e4-7e7e7dad899e"
      },
      "outputs": [
        {
          "name": "stdout",
          "output_type": "stream",
          "text": [
            "0\n",
            "1\n",
            "2\n"
          ]
        }
      ],
      "source": [
        "for i in range(3):\n",
        "    print(i)"
      ]
    },
    {
      "cell_type": "markdown",
      "metadata": {
        "id": "yUKM_u8z2MXC"
      },
      "source": [
        "from\n",
        "\n",
        "Importa de un módulo específico."
      ]
    },
    {
      "cell_type": "code",
      "execution_count": null,
      "metadata": {
        "colab": {
          "base_uri": "https://localhost:8080/"
        },
        "id": "S-Rawh4r2Mrr",
        "outputId": "743b7b09-3d0b-4071-9203-8b0f15629578"
      },
      "outputs": [
        {
          "name": "stdout",
          "output_type": "stream",
          "text": [
            "3.0\n"
          ]
        }
      ],
      "source": [
        "from math import sqrt\n",
        "print(sqrt(9))"
      ]
    },
    {
      "cell_type": "markdown",
      "metadata": {
        "id": "Rzc_TOfQ2TCt"
      },
      "source": [
        "global\n",
        "\n",
        "Declara variable global dentro de función."
      ]
    },
    {
      "cell_type": "code",
      "execution_count": null,
      "metadata": {
        "colab": {
          "base_uri": "https://localhost:8080/"
        },
        "id": "rmJeO2P98EVd",
        "outputId": "f3a83c3a-1809-4375-f4f7-c775f6d21fe0"
      },
      "outputs": [
        {
          "name": "stdout",
          "output_type": "stream",
          "text": [
            "20\n"
          ]
        }
      ],
      "source": [
        "x = 10\n",
        "def f():\n",
        "    global x\n",
        "    x = 20\n",
        "f()\n",
        "print(x)"
      ]
    },
    {
      "cell_type": "markdown",
      "metadata": {
        "id": "pp9Gj8zo2YVk"
      },
      "source": [
        "if\n",
        "\n",
        "Estructura condicional."
      ]
    },
    {
      "cell_type": "code",
      "execution_count": null,
      "metadata": {
        "colab": {
          "base_uri": "https://localhost:8080/"
        },
        "id": "rCZW27i-8D10",
        "outputId": "18765ede-e12e-4135-8445-e986dfadba8f"
      },
      "outputs": [
        {
          "name": "stdout",
          "output_type": "stream",
          "text": [
            "Positivo\n"
          ]
        }
      ],
      "source": [
        "x = 5\n",
        "if x > 0:\n",
        "    print(\"Positivo\")"
      ]
    },
    {
      "cell_type": "markdown",
      "metadata": {
        "id": "Vt10b3Qq2YoM"
      },
      "source": [
        "import: Usado para importar librerías"
      ]
    },
    {
      "cell_type": "code",
      "execution_count": null,
      "metadata": {
        "colab": {
          "base_uri": "https://localhost:8080/"
        },
        "id": "gqYJ_rr28DHu",
        "outputId": "a9ca991b-f7e2-4c20-e09d-fee8ce76ef1d"
      },
      "outputs": [
        {
          "name": "stdout",
          "output_type": "stream",
          "text": [
            "3.141592653589793\n"
          ]
        }
      ],
      "source": [
        "import math\n",
        "print(math.pi)"
      ]
    },
    {
      "cell_type": "markdown",
      "metadata": {
        "id": "K0qNtrbe6dEf"
      },
      "source": [
        "in: Verifica si un valor está en una colección."
      ]
    },
    {
      "cell_type": "code",
      "execution_count": null,
      "metadata": {
        "colab": {
          "base_uri": "https://localhost:8080/"
        },
        "id": "wNVtxiLv79Ha",
        "outputId": "c896f0f6-238f-45ff-b324-f66b7299061b"
      },
      "outputs": [
        {
          "name": "stdout",
          "output_type": "stream",
          "text": [
            "True\n"
          ]
        }
      ],
      "source": [
        "print(2 in [1, 2, 3])"
      ]
    },
    {
      "cell_type": "markdown",
      "metadata": {
        "id": "foHL16nr2Y8d"
      },
      "source": [
        " is: Verifica identidad de objetos.Verifica si un valor está en una colección."
      ]
    },
    {
      "cell_type": "code",
      "execution_count": null,
      "metadata": {
        "colab": {
          "base_uri": "https://localhost:8080/"
        },
        "id": "8JHbSuFY76wy",
        "outputId": "fa399120-40cb-429f-a87f-ea154ff719e0"
      },
      "outputs": [
        {
          "name": "stdout",
          "output_type": "stream",
          "text": [
            "True\n"
          ]
        }
      ],
      "source": [
        "x = None\n",
        "print(x is None)"
      ]
    },
    {
      "cell_type": "markdown",
      "metadata": {
        "id": "nziQhrzW2ZKU"
      },
      "source": [
        "lambda: define funciones anónimas."
      ]
    },
    {
      "cell_type": "code",
      "execution_count": null,
      "metadata": {
        "colab": {
          "base_uri": "https://localhost:8080/"
        },
        "id": "KE_cyN9274HB",
        "outputId": "1b927fc0-110a-4cbb-d8e2-264511c8afda"
      },
      "outputs": [
        {
          "name": "stdout",
          "output_type": "stream",
          "text": [
            "5\n"
          ]
        }
      ],
      "source": [
        "suma = lambda a, b: a + b\n",
        "print(suma(2,3))"
      ]
    },
    {
      "cell_type": "markdown",
      "metadata": {
        "id": "tdx_w65i2Zel"
      },
      "source": [
        "nonlocal: Usa variables de un scope superior (no global)."
      ]
    },
    {
      "cell_type": "code",
      "execution_count": null,
      "metadata": {
        "colab": {
          "base_uri": "https://localhost:8080/"
        },
        "id": "V-39kzmf71px",
        "outputId": "64d92fea-0dde-4364-a57c-74b87338e1ed"
      },
      "outputs": [
        {
          "name": "stdout",
          "output_type": "stream",
          "text": [
            "cambiado\n"
          ]
        }
      ],
      "source": [
        "def f():\n",
        "    x = \"local\"\n",
        "    def g():\n",
        "        nonlocal x\n",
        "        x = \"cambiado\"\n",
        "    g()\n",
        "    print(x)\n",
        "f()"
      ]
    },
    {
      "cell_type": "markdown",
      "metadata": {
        "id": "0x5n9tCd2ZuN"
      },
      "source": [
        "not: Negación lógica."
      ]
    },
    {
      "cell_type": "code",
      "execution_count": null,
      "metadata": {
        "colab": {
          "base_uri": "https://localhost:8080/"
        },
        "id": "dcEKhMLK7yrB",
        "outputId": "41ac058e-721a-4fd1-d972-fa1a43e1341a"
      },
      "outputs": [
        {
          "name": "stdout",
          "output_type": "stream",
          "text": [
            "False\n"
          ]
        }
      ],
      "source": [
        "print(not True)"
      ]
    },
    {
      "cell_type": "markdown",
      "metadata": {
        "id": "Lf068a9D2Z6m"
      },
      "source": [
        "or: Operador lógico \"o\"."
      ]
    },
    {
      "cell_type": "code",
      "execution_count": null,
      "metadata": {
        "colab": {
          "base_uri": "https://localhost:8080/"
        },
        "id": "TTuOlHxv7w3Q",
        "outputId": "1f125699-f43d-495e-c750-00ce2aeafdae"
      },
      "outputs": [
        {
          "name": "stdout",
          "output_type": "stream",
          "text": [
            "True\n"
          ]
        }
      ],
      "source": [
        "print(True or False)"
      ]
    },
    {
      "cell_type": "markdown",
      "metadata": {
        "id": "LG-0C6Ag2aH1"
      },
      "source": [
        "pass: Hace nada."
      ]
    },
    {
      "cell_type": "code",
      "execution_count": null,
      "metadata": {
        "id": "6NSNUc7p7p8Q"
      },
      "outputs": [],
      "source": [
        "def f():\n",
        "    pass"
      ]
    },
    {
      "cell_type": "markdown",
      "metadata": {
        "id": "3KxVuenV2aaF"
      },
      "source": [
        "raise: Lanza una excepción."
      ]
    },
    {
      "cell_type": "code",
      "execution_count": null,
      "metadata": {
        "colab": {
          "base_uri": "https://localhost:8080/",
          "height": 141
        },
        "id": "ni5zbnI_7ebY",
        "outputId": "c58e6829-9692-40ad-c574-8a492541f1bc"
      },
      "outputs": [
        {
          "ename": "ValueError",
          "evalue": "Error lanzado",
          "output_type": "error",
          "traceback": [
            "\u001b[0;31m---------------------------------------------------------------------------\u001b[0m",
            "\u001b[0;31mValueError\u001b[0m                                Traceback (most recent call last)",
            "\u001b[0;32m/tmp/ipython-input-2266979624.py\u001b[0m in \u001b[0;36m<cell line: 0>\u001b[0;34m()\u001b[0m\n\u001b[0;32m----> 1\u001b[0;31m \u001b[0;32mraise\u001b[0m \u001b[0mValueError\u001b[0m\u001b[0;34m(\u001b[0m\u001b[0;34m\"Error lanzado\"\u001b[0m\u001b[0;34m)\u001b[0m\u001b[0;34m\u001b[0m\u001b[0;34m\u001b[0m\u001b[0m\n\u001b[0m",
            "\u001b[0;31mValueError\u001b[0m: Error lanzado"
          ]
        }
      ],
      "source": [
        "raise ValueError(\"Error lanzado\")"
      ]
    },
    {
      "cell_type": "markdown",
      "metadata": {
        "id": "G3tKJwm36-K6"
      },
      "source": [
        "return: devuelve un valor en una función."
      ]
    },
    {
      "cell_type": "code",
      "execution_count": null,
      "metadata": {
        "colab": {
          "base_uri": "https://localhost:8080/"
        },
        "id": "YFZ5NBWC7X71",
        "outputId": "6cf1a323-0f6d-400a-b8d7-4120d392b51b"
      },
      "outputs": [
        {
          "name": "stdout",
          "output_type": "stream",
          "text": [
            "5\n"
          ]
        }
      ],
      "source": [
        "def suma(a, b):\n",
        "    return a + b\n",
        "print(suma(2,3))"
      ]
    },
    {
      "cell_type": "markdown",
      "metadata": {
        "id": "XtW9cLTh7B6D"
      },
      "source": [
        "try: Bloque para manejar errores."
      ]
    },
    {
      "cell_type": "code",
      "execution_count": null,
      "metadata": {
        "colab": {
          "base_uri": "https://localhost:8080/"
        },
        "id": "tNwGObH07XqV",
        "outputId": "57cad115-0a54-4105-e551-46e764ad2318"
      },
      "outputs": [
        {
          "name": "stdout",
          "output_type": "stream",
          "text": [
            "Error\n"
          ]
        }
      ],
      "source": [
        "try:\n",
        "    print(1/0)\n",
        "except:\n",
        "    print(\"Error\")"
      ]
    },
    {
      "cell_type": "markdown",
      "metadata": {
        "id": "5Da-em287Cjr"
      },
      "source": [
        "while: Bucle que se repite mientras la condición sea cierta."
      ]
    },
    {
      "cell_type": "code",
      "execution_count": null,
      "metadata": {
        "colab": {
          "base_uri": "https://localhost:8080/"
        },
        "id": "jywYnPf-7VK9",
        "outputId": "637fb1eb-bc74-4365-8447-ca8f89afe8c9"
      },
      "outputs": [
        {
          "name": "stdout",
          "output_type": "stream",
          "text": [
            "0\n",
            "1\n",
            "2\n"
          ]
        }
      ],
      "source": [
        "i = 0\n",
        "while i < 3:\n",
        "    print(i)\n",
        "    i += 1"
      ]
    },
    {
      "cell_type": "markdown",
      "metadata": {
        "id": "B2E4Q3Fd7D16"
      },
      "source": [
        "with: Maneja recursos de forma segura."
      ]
    },
    {
      "cell_type": "code",
      "execution_count": null,
      "metadata": {
        "id": "kmgFlfwQ7Kz1"
      },
      "outputs": [],
      "source": [
        "with open(\"archivo.txt\", \"w\") as f:\n",
        "    f.write(\"Hola\")"
      ]
    },
    {
      "cell_type": "markdown",
      "metadata": {
        "id": "5bNMWJI37GkD"
      },
      "source": [
        "yield: Convierte una función en generador."
      ]
    },
    {
      "cell_type": "code",
      "execution_count": null,
      "metadata": {
        "colab": {
          "base_uri": "https://localhost:8080/"
        },
        "id": "9Den9Hn87Irc",
        "outputId": "8c92181b-feeb-47ce-ea0e-6d8237858388"
      },
      "outputs": [
        {
          "name": "stdout",
          "output_type": "stream",
          "text": [
            "1\n",
            "2\n"
          ]
        }
      ],
      "source": [
        "def contar():\n",
        "    yield 1\n",
        "    yield 2\n",
        "for n in contar():\n",
        "    print(n)\n"
      ]
    }
  ],
  "metadata": {
    "colab": {
      "provenance": [],
      "include_colab_link": true
    },
    "kernelspec": {
      "display_name": "Python 3",
      "name": "python3"
    },
    "language_info": {
      "name": "python"
    }
  },
  "nbformat": 4,
  "nbformat_minor": 0
}